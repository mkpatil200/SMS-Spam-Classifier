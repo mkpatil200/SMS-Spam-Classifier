{
 "cells": [
  {
   "cell_type": "markdown",
   "id": "8c2a4020",
   "metadata": {},
   "source": [
    "# SMS SPAM CLASSIFIER"
   ]
  },
  {
   "cell_type": "markdown",
   "id": "bfd6e4bf",
   "metadata": {},
   "source": [
    "## Dataset Information"
   ]
  },
  {
   "cell_type": "markdown",
   "id": "86aa5cc0",
   "metadata": {},
   "source": [
    "The SMS Spam Collection is a set of SMS tagged messages that have been collected for SMS Spam research. It contains one set of SMS messages in English of 5572 messages tagged according being ham(leggitimate) or spam."
   ]
  },
  {
   "cell_type": "markdown",
   "id": "c6cb759b",
   "metadata": {},
   "source": [
    "## Attributes"
   ]
  },
  {
   "cell_type": "markdown",
   "id": "6b09eae2",
   "metadata": {},
   "source": [
    "- SMS Messages\n",
    "\n",
    "- Label(spam/ham)"
   ]
  },
  {
   "cell_type": "markdown",
   "id": "db302bb0",
   "metadata": {},
   "source": [
    "## Import Modules"
   ]
  },
  {
   "cell_type": "code",
   "execution_count": 1,
   "id": "cf18d7ae",
   "metadata": {},
   "outputs": [],
   "source": [
    "import numpy as np\n",
    "import pandas as pd\n",
    "import matplotlib.pyplot as plt\n",
    "import seaborn as sns\n",
    "import string \n",
    "\n",
    "import nltk\n",
    "from nltk.corpus import stopwords\n",
    "from nltk.stem.porter import PorterStemmer\n",
    "\n",
    "from sklearn.model_selection import train_test_split\n",
    "from sklearn.model_selection import cross_val_score\n",
    "\n",
    "from sklearn.naive_bayes import GaussianNB,MultinomialNB,BernoulliNB\n",
    "from sklearn.linear_model import LogisticRegression\n",
    "from sklearn.neighbors import KNeighborsClassifier\n",
    "from sklearn.svm import SVC\n",
    "from sklearn.tree import DecisionTreeClassifier\n",
    "\n",
    "from sklearn.ensemble import RandomForestClassifier\n",
    "from sklearn.ensemble import AdaBoostClassifier\n",
    "from sklearn.ensemble import BaggingClassifier\n",
    "from sklearn.ensemble import GradientBoostingClassifier\n",
    "from xgboost import XGBClassifier\n",
    "from sklearn.ensemble import VotingClassifier\n",
    "from sklearn.ensemble import StackingClassifier\n",
    "\n",
    "from sklearn.metrics import accuracy_score, classification_report, confusion_matrix, precision_score\n",
    "\n",
    "import warnings\n",
    "warnings.filterwarnings('ignore')"
   ]
  },
  {
   "cell_type": "code",
   "execution_count": 2,
   "id": "a81b138c",
   "metadata": {},
   "outputs": [
    {
     "data": {
      "text/html": [
       "<div>\n",
       "<style scoped>\n",
       "    .dataframe tbody tr th:only-of-type {\n",
       "        vertical-align: middle;\n",
       "    }\n",
       "\n",
       "    .dataframe tbody tr th {\n",
       "        vertical-align: top;\n",
       "    }\n",
       "\n",
       "    .dataframe thead th {\n",
       "        text-align: right;\n",
       "    }\n",
       "</style>\n",
       "<table border=\"1\" class=\"dataframe\">\n",
       "  <thead>\n",
       "    <tr style=\"text-align: right;\">\n",
       "      <th></th>\n",
       "      <th>v1</th>\n",
       "      <th>v2</th>\n",
       "      <th>Unnamed: 2</th>\n",
       "      <th>Unnamed: 3</th>\n",
       "      <th>Unnamed: 4</th>\n",
       "    </tr>\n",
       "  </thead>\n",
       "  <tbody>\n",
       "    <tr>\n",
       "      <th>0</th>\n",
       "      <td>ham</td>\n",
       "      <td>Go until jurong point, crazy.. Available only ...</td>\n",
       "      <td>NaN</td>\n",
       "      <td>NaN</td>\n",
       "      <td>NaN</td>\n",
       "    </tr>\n",
       "    <tr>\n",
       "      <th>1</th>\n",
       "      <td>ham</td>\n",
       "      <td>Ok lar... Joking wif u oni...</td>\n",
       "      <td>NaN</td>\n",
       "      <td>NaN</td>\n",
       "      <td>NaN</td>\n",
       "    </tr>\n",
       "    <tr>\n",
       "      <th>2</th>\n",
       "      <td>spam</td>\n",
       "      <td>Free entry in 2 a wkly comp to win FA Cup fina...</td>\n",
       "      <td>NaN</td>\n",
       "      <td>NaN</td>\n",
       "      <td>NaN</td>\n",
       "    </tr>\n",
       "    <tr>\n",
       "      <th>3</th>\n",
       "      <td>ham</td>\n",
       "      <td>U dun say so early hor... U c already then say...</td>\n",
       "      <td>NaN</td>\n",
       "      <td>NaN</td>\n",
       "      <td>NaN</td>\n",
       "    </tr>\n",
       "    <tr>\n",
       "      <th>4</th>\n",
       "      <td>ham</td>\n",
       "      <td>Nah I don't think he goes to usf, he lives aro...</td>\n",
       "      <td>NaN</td>\n",
       "      <td>NaN</td>\n",
       "      <td>NaN</td>\n",
       "    </tr>\n",
       "    <tr>\n",
       "      <th>...</th>\n",
       "      <td>...</td>\n",
       "      <td>...</td>\n",
       "      <td>...</td>\n",
       "      <td>...</td>\n",
       "      <td>...</td>\n",
       "    </tr>\n",
       "    <tr>\n",
       "      <th>5567</th>\n",
       "      <td>spam</td>\n",
       "      <td>This is the 2nd time we have tried 2 contact u...</td>\n",
       "      <td>NaN</td>\n",
       "      <td>NaN</td>\n",
       "      <td>NaN</td>\n",
       "    </tr>\n",
       "    <tr>\n",
       "      <th>5568</th>\n",
       "      <td>ham</td>\n",
       "      <td>Will �_ b going to esplanade fr home?</td>\n",
       "      <td>NaN</td>\n",
       "      <td>NaN</td>\n",
       "      <td>NaN</td>\n",
       "    </tr>\n",
       "    <tr>\n",
       "      <th>5569</th>\n",
       "      <td>ham</td>\n",
       "      <td>Pity, * was in mood for that. So...any other s...</td>\n",
       "      <td>NaN</td>\n",
       "      <td>NaN</td>\n",
       "      <td>NaN</td>\n",
       "    </tr>\n",
       "    <tr>\n",
       "      <th>5570</th>\n",
       "      <td>ham</td>\n",
       "      <td>The guy did some bitching but I acted like i'd...</td>\n",
       "      <td>NaN</td>\n",
       "      <td>NaN</td>\n",
       "      <td>NaN</td>\n",
       "    </tr>\n",
       "    <tr>\n",
       "      <th>5571</th>\n",
       "      <td>ham</td>\n",
       "      <td>Rofl. Its true to its name</td>\n",
       "      <td>NaN</td>\n",
       "      <td>NaN</td>\n",
       "      <td>NaN</td>\n",
       "    </tr>\n",
       "  </tbody>\n",
       "</table>\n",
       "<p>5572 rows × 5 columns</p>\n",
       "</div>"
      ],
      "text/plain": [
       "        v1                                                 v2 Unnamed: 2  \\\n",
       "0      ham  Go until jurong point, crazy.. Available only ...        NaN   \n",
       "1      ham                      Ok lar... Joking wif u oni...        NaN   \n",
       "2     spam  Free entry in 2 a wkly comp to win FA Cup fina...        NaN   \n",
       "3      ham  U dun say so early hor... U c already then say...        NaN   \n",
       "4      ham  Nah I don't think he goes to usf, he lives aro...        NaN   \n",
       "...    ...                                                ...        ...   \n",
       "5567  spam  This is the 2nd time we have tried 2 contact u...        NaN   \n",
       "5568   ham              Will �_ b going to esplanade fr home?        NaN   \n",
       "5569   ham  Pity, * was in mood for that. So...any other s...        NaN   \n",
       "5570   ham  The guy did some bitching but I acted like i'd...        NaN   \n",
       "5571   ham                         Rofl. Its true to its name        NaN   \n",
       "\n",
       "     Unnamed: 3 Unnamed: 4  \n",
       "0           NaN        NaN  \n",
       "1           NaN        NaN  \n",
       "2           NaN        NaN  \n",
       "3           NaN        NaN  \n",
       "4           NaN        NaN  \n",
       "...         ...        ...  \n",
       "5567        NaN        NaN  \n",
       "5568        NaN        NaN  \n",
       "5569        NaN        NaN  \n",
       "5570        NaN        NaN  \n",
       "5571        NaN        NaN  \n",
       "\n",
       "[5572 rows x 5 columns]"
      ]
     },
     "execution_count": 2,
     "metadata": {},
     "output_type": "execute_result"
    }
   ],
   "source": [
    "df=pd.read_csv('spam.csv')\n",
    "df"
   ]
  },
  {
   "cell_type": "code",
   "execution_count": 3,
   "id": "4642f00b",
   "metadata": {},
   "outputs": [
    {
     "data": {
      "text/plain": [
       "(5572, 5)"
      ]
     },
     "execution_count": 3,
     "metadata": {},
     "output_type": "execute_result"
    }
   ],
   "source": [
    "df.shape"
   ]
  },
  {
   "cell_type": "code",
   "execution_count": 4,
   "id": "a9db5fa7",
   "metadata": {},
   "outputs": [
    {
     "name": "stdout",
     "output_type": "stream",
     "text": [
      "<class 'pandas.core.frame.DataFrame'>\n",
      "RangeIndex: 5572 entries, 0 to 5571\n",
      "Data columns (total 5 columns):\n",
      " #   Column      Non-Null Count  Dtype \n",
      "---  ------      --------------  ----- \n",
      " 0   v1          5572 non-null   object\n",
      " 1   v2          5572 non-null   object\n",
      " 2   Unnamed: 2  50 non-null     object\n",
      " 3   Unnamed: 3  12 non-null     object\n",
      " 4   Unnamed: 4  6 non-null      object\n",
      "dtypes: object(5)\n",
      "memory usage: 217.8+ KB\n"
     ]
    }
   ],
   "source": [
    "df.info()"
   ]
  },
  {
   "cell_type": "markdown",
   "id": "ba7a9213",
   "metadata": {},
   "source": [
    "# Data Cleaning"
   ]
  },
  {
   "cell_type": "code",
   "execution_count": 5,
   "id": "04e74f56",
   "metadata": {},
   "outputs": [
    {
     "data": {
      "text/plain": [
       "v1               0\n",
       "v2               0\n",
       "Unnamed: 2    5522\n",
       "Unnamed: 3    5560\n",
       "Unnamed: 4    5566\n",
       "dtype: int64"
      ]
     },
     "execution_count": 5,
     "metadata": {},
     "output_type": "execute_result"
    }
   ],
   "source": [
    "# Check for NaNs \n",
    "df.isna().sum()"
   ]
  },
  {
   "cell_type": "code",
   "execution_count": 6,
   "id": "c87eaae5",
   "metadata": {},
   "outputs": [
    {
     "data": {
      "text/plain": [
       "<AxesSubplot:>"
      ]
     },
     "execution_count": 6,
     "metadata": {},
     "output_type": "execute_result"
    },
    {
     "data": {
      "image/png": "[encoded data removed]",
      "text/plain": [
       "<Figure size 432x288 with 1 Axes>"
      ]
     },
     "metadata": {
      "needs_background": "light"
     },
     "output_type": "display_data"
    }
   ],
   "source": [
    "sns.heatmap(df.isnull(),yticklabels=False,cbar=False, cmap='viridis')"
   ]
  },
  {
   "cell_type": "code",
   "execution_count": 7,
   "id": "6db4ad96",
   "metadata": {},
   "outputs": [],
   "source": [
    "df.drop(['Unnamed: 2','Unnamed: 3','Unnamed: 4'],axis=1, inplace=True)"
   ]
  },
  {
   "cell_type": "code",
   "execution_count": 8,
   "id": "04933aca",
   "metadata": {},
   "outputs": [
    {
     "data": {
      "text/html": [
       "<div>\n",
       "<style scoped>\n",
       "    .dataframe tbody tr th:only-of-type {\n",
       "        vertical-align: middle;\n",
       "    }\n",
       "\n",
       "    .dataframe tbody tr th {\n",
       "        vertical-align: top;\n",
       "    }\n",
       "\n",
       "    .dataframe thead th {\n",
       "        text-align: right;\n",
       "    }\n",
       "</style>\n",
       "<table border=\"1\" class=\"dataframe\">\n",
       "  <thead>\n",
       "    <tr style=\"text-align: right;\">\n",
       "      <th></th>\n",
       "      <th>v1</th>\n",
       "      <th>v2</th>\n",
       "    </tr>\n",
       "  </thead>\n",
       "  <tbody>\n",
       "    <tr>\n",
       "      <th>2082</th>\n",
       "      <td>ham</td>\n",
       "      <td>I'm done oredi...</td>\n",
       "    </tr>\n",
       "    <tr>\n",
       "      <th>1593</th>\n",
       "      <td>spam</td>\n",
       "      <td>PRIVATE! Your 2003 Account Statement for shows...</td>\n",
       "    </tr>\n",
       "    <tr>\n",
       "      <th>4209</th>\n",
       "      <td>ham</td>\n",
       "      <td>No da:)he is stupid da..always sending like th...</td>\n",
       "    </tr>\n",
       "    <tr>\n",
       "      <th>3353</th>\n",
       "      <td>ham</td>\n",
       "      <td>R u sure they'll understand that! Wine * good ...</td>\n",
       "    </tr>\n",
       "    <tr>\n",
       "      <th>3823</th>\n",
       "      <td>ham</td>\n",
       "      <td>I miss you so much I'm so desparate I have rec...</td>\n",
       "    </tr>\n",
       "  </tbody>\n",
       "</table>\n",
       "</div>"
      ],
      "text/plain": [
       "        v1                                                 v2\n",
       "2082   ham                                  I'm done oredi...\n",
       "1593  spam  PRIVATE! Your 2003 Account Statement for shows...\n",
       "4209   ham  No da:)he is stupid da..always sending like th...\n",
       "3353   ham  R u sure they'll understand that! Wine * good ...\n",
       "3823   ham  I miss you so much I'm so desparate I have rec..."
      ]
     },
     "execution_count": 8,
     "metadata": {},
     "output_type": "execute_result"
    }
   ],
   "source": [
    "df.sample(5)"
   ]
  },
  {
   "cell_type": "code",
   "execution_count": 9,
   "id": "f42c85ab",
   "metadata": {},
   "outputs": [],
   "source": [
    "# renaming the cols\n",
    "df.rename(columns={'v1':'Target','v2':'Text'}, inplace=True)"
   ]
  },
  {
   "cell_type": "code",
   "execution_count": 10,
   "id": "485c258e",
   "metadata": {},
   "outputs": [
    {
     "data": {
      "text/html": [
       "<div>\n",
       "<style scoped>\n",
       "    .dataframe tbody tr th:only-of-type {\n",
       "        vertical-align: middle;\n",
       "    }\n",
       "\n",
       "    .dataframe tbody tr th {\n",
       "        vertical-align: top;\n",
       "    }\n",
       "\n",
       "    .dataframe thead th {\n",
       "        text-align: right;\n",
       "    }\n",
       "</style>\n",
       "<table border=\"1\" class=\"dataframe\">\n",
       "  <thead>\n",
       "    <tr style=\"text-align: right;\">\n",
       "      <th></th>\n",
       "      <th>Target</th>\n",
       "      <th>Text</th>\n",
       "    </tr>\n",
       "  </thead>\n",
       "  <tbody>\n",
       "    <tr>\n",
       "      <th>0</th>\n",
       "      <td>ham</td>\n",
       "      <td>Go until jurong point, crazy.. Available only ...</td>\n",
       "    </tr>\n",
       "    <tr>\n",
       "      <th>1</th>\n",
       "      <td>ham</td>\n",
       "      <td>Ok lar... Joking wif u oni...</td>\n",
       "    </tr>\n",
       "    <tr>\n",
       "      <th>2</th>\n",
       "      <td>spam</td>\n",
       "      <td>Free entry in 2 a wkly comp to win FA Cup fina...</td>\n",
       "    </tr>\n",
       "    <tr>\n",
       "      <th>3</th>\n",
       "      <td>ham</td>\n",
       "      <td>U dun say so early hor... U c already then say...</td>\n",
       "    </tr>\n",
       "    <tr>\n",
       "      <th>4</th>\n",
       "      <td>ham</td>\n",
       "      <td>Nah I don't think he goes to usf, he lives aro...</td>\n",
       "    </tr>\n",
       "  </tbody>\n",
       "</table>\n",
       "</div>"
      ],
      "text/plain": [
       "  Target                                               Text\n",
       "0    ham  Go until jurong point, crazy.. Available only ...\n",
       "1    ham                      Ok lar... Joking wif u oni...\n",
       "2   spam  Free entry in 2 a wkly comp to win FA Cup fina...\n",
       "3    ham  U dun say so early hor... U c already then say...\n",
       "4    ham  Nah I don't think he goes to usf, he lives aro..."
      ]
     },
     "execution_count": 10,
     "metadata": {},
     "output_type": "execute_result"
    }
   ],
   "source": [
    "df.head()"
   ]
  },
  {
   "cell_type": "code",
   "execution_count": 11,
   "id": "a985a5d7",
   "metadata": {},
   "outputs": [],
   "source": [
    "from sklearn.preprocessing import LabelEncoder\n",
    "\n",
    "le=LabelEncoder()\n",
    "df['Target']=le.fit_transform(df['Target'])"
   ]
  },
  {
   "cell_type": "code",
   "execution_count": 12,
   "id": "16c865d7",
   "metadata": {},
   "outputs": [
    {
     "data": {
      "text/html": [
       "<div>\n",
       "<style scoped>\n",
       "    .dataframe tbody tr th:only-of-type {\n",
       "        vertical-align: middle;\n",
       "    }\n",
       "\n",
       "    .dataframe tbody tr th {\n",
       "        vertical-align: top;\n",
       "    }\n",
       "\n",
       "    .dataframe thead th {\n",
       "        text-align: right;\n",
       "    }\n",
       "</style>\n",
       "<table border=\"1\" class=\"dataframe\">\n",
       "  <thead>\n",
       "    <tr style=\"text-align: right;\">\n",
       "      <th></th>\n",
       "      <th>Target</th>\n",
       "      <th>Text</th>\n",
       "    </tr>\n",
       "  </thead>\n",
       "  <tbody>\n",
       "    <tr>\n",
       "      <th>2055</th>\n",
       "      <td>0</td>\n",
       "      <td>Sir, I am waiting for your mail.</td>\n",
       "    </tr>\n",
       "    <tr>\n",
       "      <th>5356</th>\n",
       "      <td>0</td>\n",
       "      <td>Tell me something. Thats okay.</td>\n",
       "    </tr>\n",
       "    <tr>\n",
       "      <th>4799</th>\n",
       "      <td>0</td>\n",
       "      <td>its cool but tyler had to take off so we're go...</td>\n",
       "    </tr>\n",
       "    <tr>\n",
       "      <th>5201</th>\n",
       "      <td>1</td>\n",
       "      <td>YOU VE WON! Your 4* Costa Del Sol Holiday or �...</td>\n",
       "    </tr>\n",
       "    <tr>\n",
       "      <th>2225</th>\n",
       "      <td>0</td>\n",
       "      <td>Alrite jod hows the revision goin? Keris bin d...</td>\n",
       "    </tr>\n",
       "  </tbody>\n",
       "</table>\n",
       "</div>"
      ],
      "text/plain": [
       "      Target                                               Text\n",
       "2055       0                   Sir, I am waiting for your mail.\n",
       "5356       0                     Tell me something. Thats okay.\n",
       "4799       0  its cool but tyler had to take off so we're go...\n",
       "5201       1  YOU VE WON! Your 4* Costa Del Sol Holiday or �...\n",
       "2225       0  Alrite jod hows the revision goin? Keris bin d..."
      ]
     },
     "execution_count": 12,
     "metadata": {},
     "output_type": "execute_result"
    }
   ],
   "source": [
    "df.sample(5)"
   ]
  },
  {
   "cell_type": "code",
   "execution_count": 13,
   "id": "fe05f3d3",
   "metadata": {},
   "outputs": [
    {
     "data": {
      "text/plain": [
       "403"
      ]
     },
     "execution_count": 13,
     "metadata": {},
     "output_type": "execute_result"
    }
   ],
   "source": [
    "#check for duplicates\n",
    "df.duplicated().sum()"
   ]
  },
  {
   "cell_type": "code",
   "execution_count": 14,
   "id": "ad2da7af",
   "metadata": {},
   "outputs": [],
   "source": [
    "# Drop duplicates\n",
    "df=df.drop_duplicates(keep='first')"
   ]
  },
  {
   "cell_type": "code",
   "execution_count": 15,
   "id": "4d15c962",
   "metadata": {},
   "outputs": [
    {
     "data": {
      "text/plain": [
       "(5169, 2)"
      ]
     },
     "execution_count": 15,
     "metadata": {},
     "output_type": "execute_result"
    }
   ],
   "source": [
    "df.shape"
   ]
  },
  {
   "cell_type": "markdown",
   "id": "551951dc",
   "metadata": {},
   "source": [
    "# EDA"
   ]
  },
  {
   "cell_type": "code",
   "execution_count": 16,
   "id": "42036ba2",
   "metadata": {},
   "outputs": [
    {
     "data": {
      "text/plain": [
       "0    4516\n",
       "1     653\n",
       "Name: Target, dtype: int64"
      ]
     },
     "execution_count": 16,
     "metadata": {},
     "output_type": "execute_result"
    }
   ],
   "source": [
    "df['Target'].value_counts()"
   ]
  },
  {
   "cell_type": "code",
   "execution_count": 17,
   "id": "0cbda4ca",
   "metadata": {},
   "outputs": [
    {
     "data": {
      "image/png": "[encoded data removed]",
      "text/plain": [
       "<Figure size 432x288 with 1 Axes>"
      ]
     },
     "metadata": {},
     "output_type": "display_data"
    }
   ],
   "source": [
    "plt.pie(df['Target'].value_counts(), labels=['Ham','Spam'],autopct='%0.2f',startangle=90,shadow=True,explode=(0,0.1))\n",
    "plt.show()"
   ]
  },
  {
   "cell_type": "markdown",
   "id": "3c2b03e1",
   "metadata": {},
   "source": [
    "data is imbalanced"
   ]
  },
  {
   "cell_type": "code",
   "execution_count": 18,
   "id": "df8d0ab7",
   "metadata": {},
   "outputs": [],
   "source": [
    "#checking for number of characters in each text\n",
    "df['num_character']=df['Text'].apply(len)"
   ]
  },
  {
   "cell_type": "code",
   "execution_count": 19,
   "id": "7c490fa6",
   "metadata": {},
   "outputs": [
    {
     "data": {
      "text/html": [
       "<div>\n",
       "<style scoped>\n",
       "    .dataframe tbody tr th:only-of-type {\n",
       "        vertical-align: middle;\n",
       "    }\n",
       "\n",
       "    .dataframe tbody tr th {\n",
       "        vertical-align: top;\n",
       "    }\n",
       "\n",
       "    .dataframe thead th {\n",
       "        text-align: right;\n",
       "    }\n",
       "</style>\n",
       "<table border=\"1\" class=\"dataframe\">\n",
       "  <thead>\n",
       "    <tr style=\"text-align: right;\">\n",
       "      <th></th>\n",
       "      <th>Target</th>\n",
       "      <th>Text</th>\n",
       "      <th>num_character</th>\n",
       "    </tr>\n",
       "  </thead>\n",
       "  <tbody>\n",
       "    <tr>\n",
       "      <th>0</th>\n",
       "      <td>0</td>\n",
       "      <td>Go until jurong point, crazy.. Available only ...</td>\n",
       "      <td>111</td>\n",
       "    </tr>\n",
       "    <tr>\n",
       "      <th>1</th>\n",
       "      <td>0</td>\n",
       "      <td>Ok lar... Joking wif u oni...</td>\n",
       "      <td>29</td>\n",
       "    </tr>\n",
       "    <tr>\n",
       "      <th>2</th>\n",
       "      <td>1</td>\n",
       "      <td>Free entry in 2 a wkly comp to win FA Cup fina...</td>\n",
       "      <td>155</td>\n",
       "    </tr>\n",
       "    <tr>\n",
       "      <th>3</th>\n",
       "      <td>0</td>\n",
       "      <td>U dun say so early hor... U c already then say...</td>\n",
       "      <td>49</td>\n",
       "    </tr>\n",
       "    <tr>\n",
       "      <th>4</th>\n",
       "      <td>0</td>\n",
       "      <td>Nah I don't think he goes to usf, he lives aro...</td>\n",
       "      <td>61</td>\n",
       "    </tr>\n",
       "  </tbody>\n",
       "</table>\n",
       "</div>"
      ],
      "text/plain": [
       "   Target                                               Text  num_character\n",
       "0       0  Go until jurong point, crazy.. Available only ...            111\n",
       "1       0                      Ok lar... Joking wif u oni...             29\n",
       "2       1  Free entry in 2 a wkly comp to win FA Cup fina...            155\n",
       "3       0  U dun say so early hor... U c already then say...             49\n",
       "4       0  Nah I don't think he goes to usf, he lives aro...             61"
      ]
     },
     "execution_count": 19,
     "metadata": {},
     "output_type": "execute_result"
    }
   ],
   "source": [
    "df.head()"
   ]
  },
  {
   "cell_type": "code",
   "execution_count": 20,
   "id": "262581b9",
   "metadata": {},
   "outputs": [],
   "source": [
    "#checking for number of words in each text\n",
    "df['num_word']=df['Text'].apply(lambda x: len(nltk.word_tokenize(x)))"
   ]
  },
  {
   "cell_type": "code",
   "execution_count": 21,
   "id": "d01509aa",
   "metadata": {},
   "outputs": [
    {
     "data": {
      "text/html": [
       "<div>\n",
       "<style scoped>\n",
       "    .dataframe tbody tr th:only-of-type {\n",
       "        vertical-align: middle;\n",
       "    }\n",
       "\n",
       "    .dataframe tbody tr th {\n",
       "        vertical-align: top;\n",
       "    }\n",
       "\n",
       "    .dataframe thead th {\n",
       "        text-align: right;\n",
       "    }\n",
       "</style>\n",
       "<table border=\"1\" class=\"dataframe\">\n",
       "  <thead>\n",
       "    <tr style=\"text-align: right;\">\n",
       "      <th></th>\n",
       "      <th>Target</th>\n",
       "      <th>Text</th>\n",
       "      <th>num_character</th>\n",
       "      <th>num_word</th>\n",
       "    </tr>\n",
       "  </thead>\n",
       "  <tbody>\n",
       "    <tr>\n",
       "      <th>0</th>\n",
       "      <td>0</td>\n",
       "      <td>Go until jurong point, crazy.. Available only ...</td>\n",
       "      <td>111</td>\n",
       "      <td>24</td>\n",
       "    </tr>\n",
       "    <tr>\n",
       "      <th>1</th>\n",
       "      <td>0</td>\n",
       "      <td>Ok lar... Joking wif u oni...</td>\n",
       "      <td>29</td>\n",
       "      <td>8</td>\n",
       "    </tr>\n",
       "    <tr>\n",
       "      <th>2</th>\n",
       "      <td>1</td>\n",
       "      <td>Free entry in 2 a wkly comp to win FA Cup fina...</td>\n",
       "      <td>155</td>\n",
       "      <td>37</td>\n",
       "    </tr>\n",
       "    <tr>\n",
       "      <th>3</th>\n",
       "      <td>0</td>\n",
       "      <td>U dun say so early hor... U c already then say...</td>\n",
       "      <td>49</td>\n",
       "      <td>13</td>\n",
       "    </tr>\n",
       "    <tr>\n",
       "      <th>4</th>\n",
       "      <td>0</td>\n",
       "      <td>Nah I don't think he goes to usf, he lives aro...</td>\n",
       "      <td>61</td>\n",
       "      <td>15</td>\n",
       "    </tr>\n",
       "  </tbody>\n",
       "</table>\n",
       "</div>"
      ],
      "text/plain": [
       "   Target                                               Text  num_character  \\\n",
       "0       0  Go until jurong point, crazy.. Available only ...            111   \n",
       "1       0                      Ok lar... Joking wif u oni...             29   \n",
       "2       1  Free entry in 2 a wkly comp to win FA Cup fina...            155   \n",
       "3       0  U dun say so early hor... U c already then say...             49   \n",
       "4       0  Nah I don't think he goes to usf, he lives aro...             61   \n",
       "\n",
       "   num_word  \n",
       "0        24  \n",
       "1         8  \n",
       "2        37  \n",
       "3        13  \n",
       "4        15  "
      ]
     },
     "execution_count": 21,
     "metadata": {},
     "output_type": "execute_result"
    }
   ],
   "source": [
    "df.head()"
   ]
  },
  {
   "cell_type": "code",
   "execution_count": 22,
   "id": "91637652",
   "metadata": {},
   "outputs": [],
   "source": [
    "#checking for number of sentences in each text \n",
    "df['no_sentences']=df['Text'].apply(lambda x: len(nltk.sent_tokenize(x)))"
   ]
  },
  {
   "cell_type": "code",
   "execution_count": 23,
   "id": "11c34bc2",
   "metadata": {},
   "outputs": [
    {
     "data": {
      "text/html": [
       "<div>\n",
       "<style scoped>\n",
       "    .dataframe tbody tr th:only-of-type {\n",
       "        vertical-align: middle;\n",
       "    }\n",
       "\n",
       "    .dataframe tbody tr th {\n",
       "        vertical-align: top;\n",
       "    }\n",
       "\n",
       "    .dataframe thead th {\n",
       "        text-align: right;\n",
       "    }\n",
       "</style>\n",
       "<table border=\"1\" class=\"dataframe\">\n",
       "  <thead>\n",
       "    <tr style=\"text-align: right;\">\n",
       "      <th></th>\n",
       "      <th>Target</th>\n",
       "      <th>Text</th>\n",
       "      <th>num_character</th>\n",
       "      <th>num_word</th>\n",
       "      <th>no_sentences</th>\n",
       "    </tr>\n",
       "  </thead>\n",
       "  <tbody>\n",
       "    <tr>\n",
       "      <th>0</th>\n",
       "      <td>0</td>\n",
       "      <td>Go until jurong point, crazy.. Available only ...</td>\n",
       "      <td>111</td>\n",
       "      <td>24</td>\n",
       "      <td>2</td>\n",
       "    </tr>\n",
       "    <tr>\n",
       "      <th>1</th>\n",
       "      <td>0</td>\n",
       "      <td>Ok lar... Joking wif u oni...</td>\n",
       "      <td>29</td>\n",
       "      <td>8</td>\n",
       "      <td>2</td>\n",
       "    </tr>\n",
       "    <tr>\n",
       "      <th>2</th>\n",
       "      <td>1</td>\n",
       "      <td>Free entry in 2 a wkly comp to win FA Cup fina...</td>\n",
       "      <td>155</td>\n",
       "      <td>37</td>\n",
       "      <td>2</td>\n",
       "    </tr>\n",
       "    <tr>\n",
       "      <th>3</th>\n",
       "      <td>0</td>\n",
       "      <td>U dun say so early hor... U c already then say...</td>\n",
       "      <td>49</td>\n",
       "      <td>13</td>\n",
       "      <td>1</td>\n",
       "    </tr>\n",
       "    <tr>\n",
       "      <th>4</th>\n",
       "      <td>0</td>\n",
       "      <td>Nah I don't think he goes to usf, he lives aro...</td>\n",
       "      <td>61</td>\n",
       "      <td>15</td>\n",
       "      <td>1</td>\n",
       "    </tr>\n",
       "  </tbody>\n",
       "</table>\n",
       "</div>"
      ],
      "text/plain": [
       "   Target                                               Text  num_character  \\\n",
       "0       0  Go until jurong point, crazy.. Available only ...            111   \n",
       "1       0                      Ok lar... Joking wif u oni...             29   \n",
       "2       1  Free entry in 2 a wkly comp to win FA Cup fina...            155   \n",
       "3       0  U dun say so early hor... U c already then say...             49   \n",
       "4       0  Nah I don't think he goes to usf, he lives aro...             61   \n",
       "\n",
       "   num_word  no_sentences  \n",
       "0        24             2  \n",
       "1         8             2  \n",
       "2        37             2  \n",
       "3        13             1  \n",
       "4        15             1  "
      ]
     },
     "execution_count": 23,
     "metadata": {},
     "output_type": "execute_result"
    }
   ],
   "source": [
    "df.head()"
   ]
  },
  {
   "cell_type": "code",
   "execution_count": 24,
   "id": "03866cb9",
   "metadata": {},
   "outputs": [
    {
     "data": {
      "text/html": [
       "<div>\n",
       "<style scoped>\n",
       "    .dataframe tbody tr th:only-of-type {\n",
       "        vertical-align: middle;\n",
       "    }\n",
       "\n",
       "    .dataframe tbody tr th {\n",
       "        vertical-align: top;\n",
       "    }\n",
       "\n",
       "    .dataframe thead th {\n",
       "        text-align: right;\n",
       "    }\n",
       "</style>\n",
       "<table border=\"1\" class=\"dataframe\">\n",
       "  <thead>\n",
       "    <tr style=\"text-align: right;\">\n",
       "      <th></th>\n",
       "      <th>num_character</th>\n",
       "      <th>num_word</th>\n",
       "      <th>no_sentences</th>\n",
       "    </tr>\n",
       "  </thead>\n",
       "  <tbody>\n",
       "    <tr>\n",
       "      <th>count</th>\n",
       "      <td>5169.000000</td>\n",
       "      <td>5169.000000</td>\n",
       "      <td>5169.000000</td>\n",
       "    </tr>\n",
       "    <tr>\n",
       "      <th>mean</th>\n",
       "      <td>78.923776</td>\n",
       "      <td>18.456375</td>\n",
       "      <td>1.962275</td>\n",
       "    </tr>\n",
       "    <tr>\n",
       "      <th>std</th>\n",
       "      <td>58.174846</td>\n",
       "      <td>13.323322</td>\n",
       "      <td>1.433892</td>\n",
       "    </tr>\n",
       "    <tr>\n",
       "      <th>min</th>\n",
       "      <td>2.000000</td>\n",
       "      <td>1.000000</td>\n",
       "      <td>1.000000</td>\n",
       "    </tr>\n",
       "    <tr>\n",
       "      <th>25%</th>\n",
       "      <td>36.000000</td>\n",
       "      <td>9.000000</td>\n",
       "      <td>1.000000</td>\n",
       "    </tr>\n",
       "    <tr>\n",
       "      <th>50%</th>\n",
       "      <td>60.000000</td>\n",
       "      <td>15.000000</td>\n",
       "      <td>1.000000</td>\n",
       "    </tr>\n",
       "    <tr>\n",
       "      <th>75%</th>\n",
       "      <td>117.000000</td>\n",
       "      <td>26.000000</td>\n",
       "      <td>2.000000</td>\n",
       "    </tr>\n",
       "    <tr>\n",
       "      <th>max</th>\n",
       "      <td>910.000000</td>\n",
       "      <td>220.000000</td>\n",
       "      <td>38.000000</td>\n",
       "    </tr>\n",
       "  </tbody>\n",
       "</table>\n",
       "</div>"
      ],
      "text/plain": [
       "       num_character     num_word  no_sentences\n",
       "count    5169.000000  5169.000000   5169.000000\n",
       "mean       78.923776    18.456375      1.962275\n",
       "std        58.174846    13.323322      1.433892\n",
       "min         2.000000     1.000000      1.000000\n",
       "25%        36.000000     9.000000      1.000000\n",
       "50%        60.000000    15.000000      1.000000\n",
       "75%       117.000000    26.000000      2.000000\n",
       "max       910.000000   220.000000     38.000000"
      ]
     },
     "execution_count": 24,
     "metadata": {},
     "output_type": "execute_result"
    }
   ],
   "source": [
    "df[['num_character','num_word','no_sentences']].describe()"
   ]
  },
  {
   "cell_type": "code",
   "execution_count": 25,
   "id": "4f2f5e62",
   "metadata": {},
   "outputs": [
    {
     "data": {
      "text/html": [
       "<div>\n",
       "<style scoped>\n",
       "    .dataframe tbody tr th:only-of-type {\n",
       "        vertical-align: middle;\n",
       "    }\n",
       "\n",
       "    .dataframe tbody tr th {\n",
       "        vertical-align: top;\n",
       "    }\n",
       "\n",
       "    .dataframe thead th {\n",
       "        text-align: right;\n",
       "    }\n",
       "</style>\n",
       "<table border=\"1\" class=\"dataframe\">\n",
       "  <thead>\n",
       "    <tr style=\"text-align: right;\">\n",
       "      <th></th>\n",
       "      <th>num_character</th>\n",
       "      <th>num_word</th>\n",
       "      <th>no_sentences</th>\n",
       "    </tr>\n",
       "  </thead>\n",
       "  <tbody>\n",
       "    <tr>\n",
       "      <th>count</th>\n",
       "      <td>4516.000000</td>\n",
       "      <td>4516.000000</td>\n",
       "      <td>4516.000000</td>\n",
       "    </tr>\n",
       "    <tr>\n",
       "      <th>mean</th>\n",
       "      <td>70.456820</td>\n",
       "      <td>17.123339</td>\n",
       "      <td>1.815545</td>\n",
       "    </tr>\n",
       "    <tr>\n",
       "      <th>std</th>\n",
       "      <td>56.356802</td>\n",
       "      <td>13.491315</td>\n",
       "      <td>1.364098</td>\n",
       "    </tr>\n",
       "    <tr>\n",
       "      <th>min</th>\n",
       "      <td>2.000000</td>\n",
       "      <td>1.000000</td>\n",
       "      <td>1.000000</td>\n",
       "    </tr>\n",
       "    <tr>\n",
       "      <th>25%</th>\n",
       "      <td>34.000000</td>\n",
       "      <td>8.000000</td>\n",
       "      <td>1.000000</td>\n",
       "    </tr>\n",
       "    <tr>\n",
       "      <th>50%</th>\n",
       "      <td>52.000000</td>\n",
       "      <td>13.000000</td>\n",
       "      <td>1.000000</td>\n",
       "    </tr>\n",
       "    <tr>\n",
       "      <th>75%</th>\n",
       "      <td>90.000000</td>\n",
       "      <td>22.000000</td>\n",
       "      <td>2.000000</td>\n",
       "    </tr>\n",
       "    <tr>\n",
       "      <th>max</th>\n",
       "      <td>910.000000</td>\n",
       "      <td>220.000000</td>\n",
       "      <td>38.000000</td>\n",
       "    </tr>\n",
       "  </tbody>\n",
       "</table>\n",
       "</div>"
      ],
      "text/plain": [
       "       num_character     num_word  no_sentences\n",
       "count    4516.000000  4516.000000   4516.000000\n",
       "mean       70.456820    17.123339      1.815545\n",
       "std        56.356802    13.491315      1.364098\n",
       "min         2.000000     1.000000      1.000000\n",
       "25%        34.000000     8.000000      1.000000\n",
       "50%        52.000000    13.000000      1.000000\n",
       "75%        90.000000    22.000000      2.000000\n",
       "max       910.000000   220.000000     38.000000"
      ]
     },
     "execution_count": 25,
     "metadata": {},
     "output_type": "execute_result"
    }
   ],
   "source": [
    "#ham\n",
    "df[df['Target']==0][['num_character','num_word','no_sentences']].describe() "
   ]
  },
  {
   "cell_type": "code",
   "execution_count": 26,
   "id": "614acd4a",
   "metadata": {},
   "outputs": [
    {
     "data": {
      "text/html": [
       "<div>\n",
       "<style scoped>\n",
       "    .dataframe tbody tr th:only-of-type {\n",
       "        vertical-align: middle;\n",
       "    }\n",
       "\n",
       "    .dataframe tbody tr th {\n",
       "        vertical-align: top;\n",
       "    }\n",
       "\n",
       "    .dataframe thead th {\n",
       "        text-align: right;\n",
       "    }\n",
       "</style>\n",
       "<table border=\"1\" class=\"dataframe\">\n",
       "  <thead>\n",
       "    <tr style=\"text-align: right;\">\n",
       "      <th></th>\n",
       "      <th>num_character</th>\n",
       "      <th>num_word</th>\n",
       "      <th>no_sentences</th>\n",
       "    </tr>\n",
       "  </thead>\n",
       "  <tbody>\n",
       "    <tr>\n",
       "      <th>count</th>\n",
       "      <td>653.000000</td>\n",
       "      <td>653.000000</td>\n",
       "      <td>653.000000</td>\n",
       "    </tr>\n",
       "    <tr>\n",
       "      <th>mean</th>\n",
       "      <td>137.479326</td>\n",
       "      <td>27.675345</td>\n",
       "      <td>2.977029</td>\n",
       "    </tr>\n",
       "    <tr>\n",
       "      <th>std</th>\n",
       "      <td>30.014336</td>\n",
       "      <td>7.011513</td>\n",
       "      <td>1.493676</td>\n",
       "    </tr>\n",
       "    <tr>\n",
       "      <th>min</th>\n",
       "      <td>13.000000</td>\n",
       "      <td>2.000000</td>\n",
       "      <td>1.000000</td>\n",
       "    </tr>\n",
       "    <tr>\n",
       "      <th>25%</th>\n",
       "      <td>131.000000</td>\n",
       "      <td>25.000000</td>\n",
       "      <td>2.000000</td>\n",
       "    </tr>\n",
       "    <tr>\n",
       "      <th>50%</th>\n",
       "      <td>148.000000</td>\n",
       "      <td>29.000000</td>\n",
       "      <td>3.000000</td>\n",
       "    </tr>\n",
       "    <tr>\n",
       "      <th>75%</th>\n",
       "      <td>157.000000</td>\n",
       "      <td>32.000000</td>\n",
       "      <td>4.000000</td>\n",
       "    </tr>\n",
       "    <tr>\n",
       "      <th>max</th>\n",
       "      <td>223.000000</td>\n",
       "      <td>46.000000</td>\n",
       "      <td>9.000000</td>\n",
       "    </tr>\n",
       "  </tbody>\n",
       "</table>\n",
       "</div>"
      ],
      "text/plain": [
       "       num_character    num_word  no_sentences\n",
       "count     653.000000  653.000000    653.000000\n",
       "mean      137.479326   27.675345      2.977029\n",
       "std        30.014336    7.011513      1.493676\n",
       "min        13.000000    2.000000      1.000000\n",
       "25%       131.000000   25.000000      2.000000\n",
       "50%       148.000000   29.000000      3.000000\n",
       "75%       157.000000   32.000000      4.000000\n",
       "max       223.000000   46.000000      9.000000"
      ]
     },
     "execution_count": 26,
     "metadata": {},
     "output_type": "execute_result"
    }
   ],
   "source": [
    "#spam\n",
    "df[df['Target']==1][['num_character','num_word','no_sentences']].describe() "
   ]
  },
  {
   "cell_type": "code",
   "execution_count": 27,
   "id": "d90be5f1",
   "metadata": {},
   "outputs": [
    {
     "data": {
      "image/png": "[encoded data removed]",
      "text/plain": [
       "<Figure size 1440x576 with 1 Axes>"
      ]
     },
     "metadata": {
      "needs_background": "light"
     },
     "output_type": "display_data"
    }
   ],
   "source": [
    "plt.figure(figsize=(20,8))\n",
    "sns.countplot(df[df['Target']==0]['num_character'],palette='Spectral') #ham\n",
    "sns.countplot(df[df['Target']==1]['num_character'],palette='YlGn') #spam\n",
    "plt.xlabel(\"Number of Character\")\n",
    "plt.ylabel(\"Count\")\n",
    "plt.legend(labels=['Ham','Spam'])\n",
    "plt.xticks(rotation=90)\n",
    "plt.show()"
   ]
  },
  {
   "cell_type": "markdown",
   "id": "60f49c3f",
   "metadata": {},
   "source": [
    "Number of characters are more in Ham Messages as compared to Spam Messages "
   ]
  },
  {
   "cell_type": "code",
   "execution_count": 28,
   "id": "80034b9e",
   "metadata": {},
   "outputs": [
    {
     "data": {
      "image/png": "[encoded data removed]",
      "text/plain": [
       "<Figure size 1440x576 with 1 Axes>"
      ]
     },
     "metadata": {
      "needs_background": "light"
     },
     "output_type": "display_data"
    }
   ],
   "source": [
    "plt.figure(figsize=(20,8))\n",
    "sns.countplot(df[df['Target']==0]['num_word'],palette='twilight') #ham\n",
    "sns.countplot(df[df['Target']==1]['num_word'],palette='twilight_shifted_r') #spam\n",
    "plt.xlabel(\"Number of Words\")\n",
    "plt.ylabel(\"Count\")\n",
    "plt.legend(labels=['Ham','Spam'])\n",
    "plt.xticks(rotation=90)\n",
    "plt.show()"
   ]
  },
  {
   "cell_type": "markdown",
   "id": "53e82171",
   "metadata": {},
   "source": [
    "Number of words are more in Ham Messages as compared to Spam Messages "
   ]
  },
  {
   "cell_type": "code",
   "execution_count": 29,
   "id": "0698db7e",
   "metadata": {},
   "outputs": [
    {
     "data": {
      "image/png": "[encoded data removed]",
      "text/plain": [
       "<Figure size 1080x360 with 1 Axes>"
      ]
     },
     "metadata": {
      "needs_background": "light"
     },
     "output_type": "display_data"
    }
   ],
   "source": [
    "plt.figure(figsize=(15,5))\n",
    "sns.countplot(df[df['Target']==0]['no_sentences'], palette='icefire') #ham\n",
    "sns.countplot(df[df['Target']==1]['no_sentences'],palette='coolwarm') #spam\n",
    "plt.xlabel(\"Number of Sentences\")\n",
    "plt.ylabel(\"Count\")\n",
    "plt.legend(labels=['Ham','Spam'])\n",
    "plt.xticks(rotation=90)\n",
    "plt.show()"
   ]
  },
  {
   "cell_type": "markdown",
   "id": "bc140802",
   "metadata": {},
   "source": [
    "Number of Sentences used are more in Ham Messages as compared to Spam Messages "
   ]
  },
  {
   "cell_type": "code",
   "execution_count": 30,
   "id": "38b9ee76",
   "metadata": {},
   "outputs": [
    {
     "data": {
      "text/plain": [
       "<seaborn.axisgrid.PairGrid at 0x1b3975b1e50>"
      ]
     },
     "execution_count": 30,
     "metadata": {},
     "output_type": "execute_result"
    },
    {
     "data": {
      "image/png": "[encoded data removed]",
      "text/plain": [
       "<Figure size 582.375x540 with 12 Axes>"
      ]
     },
     "metadata": {
      "needs_background": "light"
     },
     "output_type": "display_data"
    }
   ],
   "source": [
    "sns.pairplot(data=df, hue='Target')"
   ]
  },
  {
   "cell_type": "code",
   "execution_count": 31,
   "id": "766dba53",
   "metadata": {},
   "outputs": [
    {
     "data": {
      "text/html": [
       "<style  type=\"text/css\" >\n",
       "#T_55165_row0_col0,#T_55165_row1_col1,#T_55165_row2_col2,#T_55165_row3_col3{\n",
       "            background-color:  #023858;\n",
       "            color:  #f1f1f1;\n",
       "        }#T_55165_row0_col1,#T_55165_row0_col2,#T_55165_row0_col3,#T_55165_row2_col0{\n",
       "            background-color:  #fff7fb;\n",
       "            color:  #000000;\n",
       "        }#T_55165_row1_col0{\n",
       "            background-color:  #e4e1ef;\n",
       "            color:  #000000;\n",
       "        }#T_55165_row1_col2{\n",
       "            background-color:  #03446a;\n",
       "            color:  #f1f1f1;\n",
       "        }#T_55165_row1_col3{\n",
       "            background-color:  #78abd0;\n",
       "            color:  #000000;\n",
       "        }#T_55165_row2_col1{\n",
       "            background-color:  #03476f;\n",
       "            color:  #f1f1f1;\n",
       "        }#T_55165_row2_col3{\n",
       "            background-color:  #549cc7;\n",
       "            color:  #000000;\n",
       "        }#T_55165_row3_col0{\n",
       "            background-color:  #fef6fa;\n",
       "            color:  #000000;\n",
       "        }#T_55165_row3_col1{\n",
       "            background-color:  #9fbad9;\n",
       "            color:  #000000;\n",
       "        }#T_55165_row3_col2{\n",
       "            background-color:  #529bc7;\n",
       "            color:  #000000;\n",
       "        }</style><table id=\"T_55165_\" ><thead>    <tr>        <th class=\"blank level0\" ></th>        <th class=\"col_heading level0 col0\" >Target</th>        <th class=\"col_heading level0 col1\" >num_character</th>        <th class=\"col_heading level0 col2\" >num_word</th>        <th class=\"col_heading level0 col3\" >no_sentences</th>    </tr></thead><tbody>\n",
       "                <tr>\n",
       "                        <th id=\"T_55165_level0_row0\" class=\"row_heading level0 row0\" >Target</th>\n",
       "                        <td id=\"T_55165_row0_col0\" class=\"data row0 col0\" >1.000000</td>\n",
       "                        <td id=\"T_55165_row0_col1\" class=\"data row0 col1\" >0.382785</td>\n",
       "                        <td id=\"T_55165_row0_col2\" class=\"data row0 col2\" >0.263143</td>\n",
       "                        <td id=\"T_55165_row0_col3\" class=\"data row0 col3\" >0.269132</td>\n",
       "            </tr>\n",
       "            <tr>\n",
       "                        <th id=\"T_55165_level0_row1\" class=\"row_heading level0 row1\" >num_character</th>\n",
       "                        <td id=\"T_55165_row1_col0\" class=\"data row1 col0\" >0.382785</td>\n",
       "                        <td id=\"T_55165_row1_col1\" class=\"data row1 col1\" >1.000000</td>\n",
       "                        <td id=\"T_55165_row1_col2\" class=\"data row1 col2\" >0.966087</td>\n",
       "                        <td id=\"T_55165_row1_col3\" class=\"data row1 col3\" >0.626197</td>\n",
       "            </tr>\n",
       "            <tr>\n",
       "                        <th id=\"T_55165_level0_row2\" class=\"row_heading level0 row2\" >num_word</th>\n",
       "                        <td id=\"T_55165_row2_col0\" class=\"data row2 col0\" >0.263143</td>\n",
       "                        <td id=\"T_55165_row2_col1\" class=\"data row2 col1\" >0.966087</td>\n",
       "                        <td id=\"T_55165_row2_col2\" class=\"data row2 col2\" >1.000000</td>\n",
       "                        <td id=\"T_55165_row2_col3\" class=\"data row2 col3\" >0.680924</td>\n",
       "            </tr>\n",
       "            <tr>\n",
       "                        <th id=\"T_55165_level0_row3\" class=\"row_heading level0 row3\" >no_sentences</th>\n",
       "                        <td id=\"T_55165_row3_col0\" class=\"data row3 col0\" >0.269132</td>\n",
       "                        <td id=\"T_55165_row3_col1\" class=\"data row3 col1\" >0.626197</td>\n",
       "                        <td id=\"T_55165_row3_col2\" class=\"data row3 col2\" >0.680924</td>\n",
       "                        <td id=\"T_55165_row3_col3\" class=\"data row3 col3\" >1.000000</td>\n",
       "            </tr>\n",
       "    </tbody></table>"
      ],
      "text/plain": [
       "<pandas.io.formats.style.Styler at 0x1b39936b970>"
      ]
     },
     "execution_count": 31,
     "metadata": {},
     "output_type": "execute_result"
    }
   ],
   "source": [
    "df.corr().style.background_gradient()"
   ]
  },
  {
   "cell_type": "code",
   "execution_count": 32,
   "id": "97827c97",
   "metadata": {},
   "outputs": [
    {
     "data": {
      "text/plain": [
       "<AxesSubplot:>"
      ]
     },
     "execution_count": 32,
     "metadata": {},
     "output_type": "execute_result"
    },
    {
     "data": {
      "image/png": "[encoded data removed]",
      "text/plain": [
       "<Figure size 432x288 with 2 Axes>"
      ]
     },
     "metadata": {
      "needs_background": "light"
     },
     "output_type": "display_data"
    }
   ],
   "source": [
    "sns.heatmap(df.corr(), annot=True, cmap='Blues')"
   ]
  },
  {
   "cell_type": "markdown",
   "id": "dc7c6dfe",
   "metadata": {},
   "source": [
    "# Data Preprocessing "
   ]
  },
  {
   "cell_type": "code",
   "execution_count": 33,
   "id": "e86e8320",
   "metadata": {},
   "outputs": [],
   "source": [
    "from nltk.stem.porter import PorterStemmer\n",
    "ps = PorterStemmer()"
   ]
  },
  {
   "cell_type": "code",
   "execution_count": 34,
   "id": "7746b737",
   "metadata": {},
   "outputs": [],
   "source": [
    "def transform_text(text):\n",
    "    text = text.lower()  #Converting text into lower case\n",
    "    text = nltk.word_tokenize(text)  #Splitting strings into tokens\n",
    "    \n",
    "    y = []\n",
    "    for i in text:\n",
    "        if i.isalnum():  #Removing special characters\n",
    "            y.append(i)\n",
    "    \n",
    "    text = y[:]\n",
    "    y.clear()\n",
    "    \n",
    "    for i in text:\n",
    "        if i not in stopwords.words('english') and i not in string.punctuation:  #Removing stop words and punctuation\n",
    "            y.append(i)\n",
    "            \n",
    "    text = y[:]\n",
    "    y.clear()\n",
    "    \n",
    "    for i in text:\n",
    "        y.append(ps.stem(i))  #Stemming\n",
    "    \n",
    "            \n",
    "    return \" \".join(y)"
   ]
  },
  {
   "cell_type": "code",
   "execution_count": 35,
   "id": "4df7de2a",
   "metadata": {},
   "outputs": [
    {
     "data": {
      "text/plain": [
       "'gon na home soon want talk stuff anymor tonight k cri enough today'"
      ]
     },
     "execution_count": 35,
     "metadata": {},
     "output_type": "execute_result"
    }
   ],
   "source": [
    "transform_text(\"I'm gonna be home soon and i don't want to talk about this stuff anymore tonight, k? I've cried enough today.\")"
   ]
  },
  {
   "cell_type": "code",
   "execution_count": 36,
   "id": "9abbcf78",
   "metadata": {},
   "outputs": [],
   "source": [
    "df['Transformed_text']= df['Text'].apply(transform_text)"
   ]
  },
  {
   "cell_type": "code",
   "execution_count": 37,
   "id": "cf62bbb2",
   "metadata": {},
   "outputs": [
    {
     "data": {
      "text/html": [
       "<div>\n",
       "<style scoped>\n",
       "    .dataframe tbody tr th:only-of-type {\n",
       "        vertical-align: middle;\n",
       "    }\n",
       "\n",
       "    .dataframe tbody tr th {\n",
       "        vertical-align: top;\n",
       "    }\n",
       "\n",
       "    .dataframe thead th {\n",
       "        text-align: right;\n",
       "    }\n",
       "</style>\n",
       "<table border=\"1\" class=\"dataframe\">\n",
       "  <thead>\n",
       "    <tr style=\"text-align: right;\">\n",
       "      <th></th>\n",
       "      <th>Target</th>\n",
       "      <th>Text</th>\n",
       "      <th>num_character</th>\n",
       "      <th>num_word</th>\n",
       "      <th>no_sentences</th>\n",
       "      <th>Transformed_text</th>\n",
       "    </tr>\n",
       "  </thead>\n",
       "  <tbody>\n",
       "    <tr>\n",
       "      <th>0</th>\n",
       "      <td>0</td>\n",
       "      <td>Go until jurong point, crazy.. Available only ...</td>\n",
       "      <td>111</td>\n",
       "      <td>24</td>\n",
       "      <td>2</td>\n",
       "      <td>go jurong point crazi avail bugi n great world...</td>\n",
       "    </tr>\n",
       "    <tr>\n",
       "      <th>1</th>\n",
       "      <td>0</td>\n",
       "      <td>Ok lar... Joking wif u oni...</td>\n",
       "      <td>29</td>\n",
       "      <td>8</td>\n",
       "      <td>2</td>\n",
       "      <td>ok lar joke wif u oni</td>\n",
       "    </tr>\n",
       "    <tr>\n",
       "      <th>2</th>\n",
       "      <td>1</td>\n",
       "      <td>Free entry in 2 a wkly comp to win FA Cup fina...</td>\n",
       "      <td>155</td>\n",
       "      <td>37</td>\n",
       "      <td>2</td>\n",
       "      <td>free entri 2 wkli comp win fa cup final tkt 21...</td>\n",
       "    </tr>\n",
       "    <tr>\n",
       "      <th>3</th>\n",
       "      <td>0</td>\n",
       "      <td>U dun say so early hor... U c already then say...</td>\n",
       "      <td>49</td>\n",
       "      <td>13</td>\n",
       "      <td>1</td>\n",
       "      <td>u dun say earli hor u c alreadi say</td>\n",
       "    </tr>\n",
       "    <tr>\n",
       "      <th>4</th>\n",
       "      <td>0</td>\n",
       "      <td>Nah I don't think he goes to usf, he lives aro...</td>\n",
       "      <td>61</td>\n",
       "      <td>15</td>\n",
       "      <td>1</td>\n",
       "      <td>nah think goe usf live around though</td>\n",
       "    </tr>\n",
       "  </tbody>\n",
       "</table>\n",
       "</div>"
      ],
      "text/plain": [
       "   Target                                               Text  num_character  \\\n",
       "0       0  Go until jurong point, crazy.. Available only ...            111   \n",
       "1       0                      Ok lar... Joking wif u oni...             29   \n",
       "2       1  Free entry in 2 a wkly comp to win FA Cup fina...            155   \n",
       "3       0  U dun say so early hor... U c already then say...             49   \n",
       "4       0  Nah I don't think he goes to usf, he lives aro...             61   \n",
       "\n",
       "   num_word  no_sentences                                   Transformed_text  \n",
       "0        24             2  go jurong point crazi avail bugi n great world...  \n",
       "1         8             2                              ok lar joke wif u oni  \n",
       "2        37             2  free entri 2 wkli comp win fa cup final tkt 21...  \n",
       "3        13             1                u dun say earli hor u c alreadi say  \n",
       "4        15             1               nah think goe usf live around though  "
      ]
     },
     "execution_count": 37,
     "metadata": {},
     "output_type": "execute_result"
    }
   ],
   "source": [
    "df.head()"
   ]
  },
  {
   "cell_type": "markdown",
   "id": "ba8d46e7",
   "metadata": {},
   "source": [
    "# Model Building"
   ]
  },
  {
   "cell_type": "code",
   "execution_count": 38,
   "id": "35d4eb27",
   "metadata": {},
   "outputs": [],
   "source": [
    "#Converting the text numerical feature vectors.\n",
    "from sklearn.feature_extraction.text import CountVectorizer,TfidfVectorizer\n",
    "cv = CountVectorizer()\n",
    "tfidf = TfidfVectorizer(max_features=3000)"
   ]
  },
  {
   "cell_type": "code",
   "execution_count": 39,
   "id": "c0250125",
   "metadata": {},
   "outputs": [],
   "source": [
    "x = tfidf.fit_transform(df['Text']).toarray()"
   ]
  },
  {
   "cell_type": "code",
   "execution_count": 40,
   "id": "5ff83909",
   "metadata": {},
   "outputs": [],
   "source": [
    "y=df.iloc[:,0].values"
   ]
  },
  {
   "cell_type": "code",
   "execution_count": 41,
   "id": "eb5ac72b",
   "metadata": {},
   "outputs": [
    {
     "data": {
      "text/plain": [
       "array([[0., 0., 0., ..., 0., 0., 0.],\n",
       "       [0., 0., 0., ..., 0., 0., 0.],\n",
       "       [0., 0., 0., ..., 0., 0., 0.],\n",
       "       ...,\n",
       "       [0., 0., 0., ..., 0., 0., 0.],\n",
       "       [0., 0., 0., ..., 0., 0., 0.],\n",
       "       [0., 0., 0., ..., 0., 0., 0.]])"
      ]
     },
     "execution_count": 41,
     "metadata": {},
     "output_type": "execute_result"
    }
   ],
   "source": [
    "x"
   ]
  },
  {
   "cell_type": "code",
   "execution_count": 42,
   "id": "807c1e2c",
   "metadata": {},
   "outputs": [
    {
     "data": {
      "text/plain": [
       "array([0, 0, 1, ..., 0, 0, 0])"
      ]
     },
     "execution_count": 42,
     "metadata": {},
     "output_type": "execute_result"
    }
   ],
   "source": [
    "y"
   ]
  },
  {
   "cell_type": "code",
   "execution_count": 43,
   "id": "d3977935",
   "metadata": {},
   "outputs": [],
   "source": [
    "xtrain,xtest,ytrain,ytest=train_test_split(x,y,test_size=0.2,random_state=2)"
   ]
  },
  {
   "cell_type": "code",
   "execution_count": 44,
   "id": "d80c3bcb",
   "metadata": {},
   "outputs": [],
   "source": [
    "gnb=GaussianNB()\n",
    "mnb=MultinomialNB()\n",
    "bnb=BernoulliNB()\n",
    "logreg=LogisticRegression()\n",
    "knn=KNeighborsClassifier()\n",
    "svm=SVC()\n",
    "dt=DecisionTreeClassifier()\n",
    "rfc = RandomForestClassifier(n_estimators=50, random_state=2)\n",
    "abc = AdaBoostClassifier(n_estimators=50, random_state=2)\n",
    "bc = BaggingClassifier(n_estimators=50, random_state=2)\n",
    "gbc = GradientBoostingClassifier(n_estimators=50,random_state=2)\n",
    "xgb = XGBClassifier(n_estimators=50,random_state=2)"
   ]
  },
  {
   "cell_type": "code",
   "execution_count": 45,
   "id": "bbefd516",
   "metadata": {},
   "outputs": [
    {
     "name": "stdout",
     "output_type": "stream",
     "text": [
      "KNN     -:\n",
      "Accuracy: 0.90715667311412\n",
      "Precision: 1.0\n",
      "Confusion Matrix:\n",
      " [[896   0]\n",
      " [ 96  42]]\n",
      "Classification Report:\n",
      "               precision    recall  f1-score   support\n",
      "\n",
      "           0       0.90      1.00      0.95       896\n",
      "           1       1.00      0.30      0.47       138\n",
      "\n",
      "    accuracy                           0.91      1034\n",
      "   macro avg       0.95      0.65      0.71      1034\n",
      "weighted avg       0.92      0.91      0.88      1034\n",
      "\n",
      "\n",
      "Logreg  -:\n",
      "Accuracy: 0.9642166344294004\n",
      "Precision: 0.9902912621359223\n",
      "Confusion Matrix:\n",
      " [[895   1]\n",
      " [ 36 102]]\n",
      "Classification Report:\n",
      "               precision    recall  f1-score   support\n",
      "\n",
      "           0       0.96      1.00      0.98       896\n",
      "           1       0.99      0.74      0.85       138\n",
      "\n",
      "    accuracy                           0.96      1034\n",
      "   macro avg       0.98      0.87      0.91      1034\n",
      "weighted avg       0.97      0.96      0.96      1034\n",
      "\n",
      "\n",
      "SVM     -:\n",
      "Accuracy: 0.9796905222437138\n",
      "Precision: 0.9915966386554622\n",
      "Confusion Matrix:\n",
      " [[895   1]\n",
      " [ 20 118]]\n",
      "Classification Report:\n",
      "               precision    recall  f1-score   support\n",
      "\n",
      "           0       0.98      1.00      0.99       896\n",
      "           1       0.99      0.86      0.92       138\n",
      "\n",
      "    accuracy                           0.98      1034\n",
      "   macro avg       0.98      0.93      0.95      1034\n",
      "weighted avg       0.98      0.98      0.98      1034\n",
      "\n",
      "\n",
      "DT      -:\n",
      "Accuracy: 0.9564796905222437\n",
      "Precision: 0.849624060150376\n",
      "Confusion Matrix:\n",
      " [[876  20]\n",
      " [ 25 113]]\n",
      "Classification Report:\n",
      "               precision    recall  f1-score   support\n",
      "\n",
      "           0       0.97      0.98      0.97       896\n",
      "           1       0.85      0.82      0.83       138\n",
      "\n",
      "    accuracy                           0.96      1034\n",
      "   macro avg       0.91      0.90      0.90      1034\n",
      "weighted avg       0.96      0.96      0.96      1034\n",
      "\n",
      "\n",
      "GBN     -:\n",
      "Accuracy: 0.8965183752417795\n",
      "Precision: 0.5741626794258373\n",
      "Confusion Matrix:\n",
      " [[807  89]\n",
      " [ 18 120]]\n",
      "Classification Report:\n",
      "               precision    recall  f1-score   support\n",
      "\n",
      "           0       0.98      0.90      0.94       896\n",
      "           1       0.57      0.87      0.69       138\n",
      "\n",
      "    accuracy                           0.90      1034\n",
      "   macro avg       0.78      0.89      0.81      1034\n",
      "weighted avg       0.92      0.90      0.90      1034\n",
      "\n",
      "\n",
      "MNB    -:\n",
      "Accuracy: 0.9729206963249516\n",
      "Precision: 1.0\n",
      "Confusion Matrix:\n",
      " [[896   0]\n",
      " [ 28 110]]\n",
      "Classification Report:\n",
      "               precision    recall  f1-score   support\n",
      "\n",
      "           0       0.97      1.00      0.98       896\n",
      "           1       1.00      0.80      0.89       138\n",
      "\n",
      "    accuracy                           0.97      1034\n",
      "   macro avg       0.98      0.90      0.94      1034\n",
      "weighted avg       0.97      0.97      0.97      1034\n",
      "\n",
      "\n",
      "BNB     -:\n",
      "Accuracy: 0.9854932301740812\n",
      "Precision: 0.9767441860465116\n",
      "Confusion Matrix:\n",
      " [[893   3]\n",
      " [ 12 126]]\n",
      "Classification Report:\n",
      "               precision    recall  f1-score   support\n",
      "\n",
      "           0       0.99      1.00      0.99       896\n",
      "           1       0.98      0.91      0.94       138\n",
      "\n",
      "    accuracy                           0.99      1034\n",
      "   macro avg       0.98      0.95      0.97      1034\n",
      "weighted avg       0.99      0.99      0.99      1034\n",
      "\n",
      "\n",
      "RF    -:\n",
      "Accuracy: 0.9777562862669246\n",
      "Precision: 1.0\n",
      "Confusion Matrix:\n",
      " [[896   0]\n",
      " [ 23 115]]\n",
      "Classification Report:\n",
      "               precision    recall  f1-score   support\n",
      "\n",
      "           0       0.97      1.00      0.99       896\n",
      "           1       1.00      0.83      0.91       138\n",
      "\n",
      "    accuracy                           0.98      1034\n",
      "   macro avg       0.99      0.92      0.95      1034\n",
      "weighted avg       0.98      0.98      0.98      1034\n",
      "\n",
      "\n",
      "ADA     -:\n",
      "Accuracy: 0.9738878143133463\n",
      "Precision: 0.944\n",
      "Confusion Matrix:\n",
      " [[889   7]\n",
      " [ 20 118]]\n",
      "Classification Report:\n",
      "               precision    recall  f1-score   support\n",
      "\n",
      "           0       0.98      0.99      0.99       896\n",
      "           1       0.94      0.86      0.90       138\n",
      "\n",
      "    accuracy                           0.97      1034\n",
      "   macro avg       0.96      0.92      0.94      1034\n",
      "weighted avg       0.97      0.97      0.97      1034\n",
      "\n",
      "\n",
      "BC     -:\n",
      "Accuracy: 0.9564796905222437\n",
      "Precision: 0.8842975206611571\n",
      "Confusion Matrix:\n",
      " [[882  14]\n",
      " [ 31 107]]\n",
      "Classification Report:\n",
      "               precision    recall  f1-score   support\n",
      "\n",
      "           0       0.97      0.98      0.98       896\n",
      "           1       0.88      0.78      0.83       138\n",
      "\n",
      "    accuracy                           0.96      1034\n",
      "   macro avg       0.93      0.88      0.90      1034\n",
      "weighted avg       0.96      0.96      0.96      1034\n",
      "\n",
      "\n",
      "GBC     -:\n",
      "Accuracy: 0.9671179883945842\n",
      "Precision: 0.956140350877193\n",
      "Confusion Matrix:\n",
      " [[891   5]\n",
      " [ 29 109]]\n",
      "Classification Report:\n",
      "               precision    recall  f1-score   support\n",
      "\n",
      "           0       0.97      0.99      0.98       896\n",
      "           1       0.96      0.79      0.87       138\n",
      "\n",
      "    accuracy                           0.97      1034\n",
      "   macro avg       0.96      0.89      0.92      1034\n",
      "weighted avg       0.97      0.97      0.97      1034\n",
      "\n",
      "\n",
      "[12:05:09] WARNING: C:/Users/Administrator/workspace/xgboost-win64_release_1.4.0/src/learner.cc:1095: Starting in XGBoost 1.3.0, the default evaluation metric used with the objective 'binary:logistic' was changed from 'error' to 'logloss'. Explicitly set eval_metric if you'd like to restore the old behavior.\n",
      "XGB     -:\n",
      "Accuracy: 0.9806576402321083\n",
      "Precision: 0.9682539682539683\n",
      "Confusion Matrix:\n",
      " [[892   4]\n",
      " [ 16 122]]\n",
      "Classification Report:\n",
      "               precision    recall  f1-score   support\n",
      "\n",
      "           0       0.98      1.00      0.99       896\n",
      "           1       0.97      0.88      0.92       138\n",
      "\n",
      "    accuracy                           0.98      1034\n",
      "   macro avg       0.98      0.94      0.96      1034\n",
      "weighted avg       0.98      0.98      0.98      1034\n",
      "\n",
      "\n",
      "Avg. Ensemble Acurracy-: 96.08333333333333 %\n"
     ]
    }
   ],
   "source": [
    "models = []\n",
    "models.append((\"KNN     -:\", KNeighborsClassifier()))\n",
    "models.append((\"Logreg  -:\", LogisticRegression()))\n",
    "models.append((\"SVM     -:\", SVC()))\n",
    "models.append((\"DT      -:\", DecisionTreeClassifier()))\n",
    "models.append((\"GBN     -:\", GaussianNB()))\n",
    "models.append((\"MNB    -:\", MultinomialNB()))\n",
    "models.append((\"BNB     -:\", BernoulliNB()))\n",
    "models.append((\"RF    -:\", RandomForestClassifier()))\n",
    "models.append((\"ADA     -:\", AdaBoostClassifier()))\n",
    "models.append((\"BC     -:\",BaggingClassifier()))\n",
    "models.append((\"GBC     -:\", GradientBoostingClassifier()))\n",
    "models.append((\"XGB     -:\", XGBClassifier()))\n",
    "\n",
    "accuracy=[]\n",
    "precision=[]\n",
    "for name, model in models:\n",
    "    model.fit(xtrain, ytrain)\n",
    "    ypred = model.predict(xtest)\n",
    "    ac = accuracy_score(ytest, ypred)\n",
    "    accuracy.append(round(ac*100))\n",
    "    pc=precision_score(ytest,ypred)\n",
    "    precision.append(round(pc*100))\n",
    "    \n",
    "    print(name)\n",
    "    print(f'Accuracy: {accuracy_score(ytest,ypred)}')\n",
    "    print(f'Precision: {precision_score(ytest,ypred)}')\n",
    "    print(f'Confusion Matrix:\\n {confusion_matrix(ytest,ypred)}')\n",
    "    print(f'Classification Report:\\n {classification_report(ytest, ypred)}')\n",
    "    print()\n",
    "    \n",
    "print(f\"Avg. Ensemble Acurracy-: {np.array(accuracy).mean()} %\")"
   ]
  },
  {
   "cell_type": "code",
   "execution_count": 46,
   "id": "98a637ba",
   "metadata": {},
   "outputs": [],
   "source": [
    "clfs = {\n",
    "    'KNN' : knn,\n",
    "    'LOGREG': logreg,\n",
    "    'SVC' : svm,\n",
    "    'DT': dt, \n",
    "    'GNB': gnb,\n",
    "    'MNB': mnb,\n",
    "    'BNB': bnb,\n",
    "    'RF': rfc, \n",
    "    'AdaBoost': abc, \n",
    "    'BgC': bc, \n",
    "    'GBC':gbc,\n",
    "    'XGB':xgb\n",
    "}"
   ]
  },
  {
   "cell_type": "code",
   "execution_count": 47,
   "id": "aaa9e0ff",
   "metadata": {},
   "outputs": [],
   "source": [
    "performance_df = pd.DataFrame({'Algorithm':clfs.keys(),'Accuracy':accuracy,'Precision':precision})"
   ]
  },
  {
   "cell_type": "code",
   "execution_count": 48,
   "id": "0307537e",
   "metadata": {},
   "outputs": [
    {
     "data": {
      "text/html": [
       "<div>\n",
       "<style scoped>\n",
       "    .dataframe tbody tr th:only-of-type {\n",
       "        vertical-align: middle;\n",
       "    }\n",
       "\n",
       "    .dataframe tbody tr th {\n",
       "        vertical-align: top;\n",
       "    }\n",
       "\n",
       "    .dataframe thead th {\n",
       "        text-align: right;\n",
       "    }\n",
       "</style>\n",
       "<table border=\"1\" class=\"dataframe\">\n",
       "  <thead>\n",
       "    <tr style=\"text-align: right;\">\n",
       "      <th></th>\n",
       "      <th>Algorithm</th>\n",
       "      <th>Accuracy</th>\n",
       "      <th>Precision</th>\n",
       "    </tr>\n",
       "  </thead>\n",
       "  <tbody>\n",
       "    <tr>\n",
       "      <th>0</th>\n",
       "      <td>KNN</td>\n",
       "      <td>91</td>\n",
       "      <td>100</td>\n",
       "    </tr>\n",
       "    <tr>\n",
       "      <th>1</th>\n",
       "      <td>LOGREG</td>\n",
       "      <td>96</td>\n",
       "      <td>99</td>\n",
       "    </tr>\n",
       "    <tr>\n",
       "      <th>2</th>\n",
       "      <td>SVC</td>\n",
       "      <td>98</td>\n",
       "      <td>99</td>\n",
       "    </tr>\n",
       "    <tr>\n",
       "      <th>3</th>\n",
       "      <td>DT</td>\n",
       "      <td>96</td>\n",
       "      <td>85</td>\n",
       "    </tr>\n",
       "    <tr>\n",
       "      <th>4</th>\n",
       "      <td>GNB</td>\n",
       "      <td>90</td>\n",
       "      <td>57</td>\n",
       "    </tr>\n",
       "    <tr>\n",
       "      <th>5</th>\n",
       "      <td>MNB</td>\n",
       "      <td>97</td>\n",
       "      <td>100</td>\n",
       "    </tr>\n",
       "    <tr>\n",
       "      <th>6</th>\n",
       "      <td>BNB</td>\n",
       "      <td>99</td>\n",
       "      <td>98</td>\n",
       "    </tr>\n",
       "    <tr>\n",
       "      <th>7</th>\n",
       "      <td>RF</td>\n",
       "      <td>98</td>\n",
       "      <td>100</td>\n",
       "    </tr>\n",
       "    <tr>\n",
       "      <th>8</th>\n",
       "      <td>AdaBoost</td>\n",
       "      <td>97</td>\n",
       "      <td>94</td>\n",
       "    </tr>\n",
       "    <tr>\n",
       "      <th>9</th>\n",
       "      <td>BgC</td>\n",
       "      <td>96</td>\n",
       "      <td>88</td>\n",
       "    </tr>\n",
       "    <tr>\n",
       "      <th>10</th>\n",
       "      <td>GBC</td>\n",
       "      <td>97</td>\n",
       "      <td>96</td>\n",
       "    </tr>\n",
       "    <tr>\n",
       "      <th>11</th>\n",
       "      <td>XGB</td>\n",
       "      <td>98</td>\n",
       "      <td>97</td>\n",
       "    </tr>\n",
       "  </tbody>\n",
       "</table>\n",
       "</div>"
      ],
      "text/plain": [
       "   Algorithm  Accuracy  Precision\n",
       "0        KNN        91        100\n",
       "1     LOGREG        96         99\n",
       "2        SVC        98         99\n",
       "3         DT        96         85\n",
       "4        GNB        90         57\n",
       "5        MNB        97        100\n",
       "6        BNB        99         98\n",
       "7         RF        98        100\n",
       "8   AdaBoost        97         94\n",
       "9        BgC        96         88\n",
       "10       GBC        97         96\n",
       "11       XGB        98         97"
      ]
     },
     "execution_count": 48,
     "metadata": {},
     "output_type": "execute_result"
    }
   ],
   "source": [
    "performance_df"
   ]
  },
  {
   "cell_type": "code",
   "execution_count": 49,
   "id": "c530f5a4",
   "metadata": {},
   "outputs": [
    {
     "data": {
      "text/plain": [
       "<AxesSubplot:xlabel='Algorithm', ylabel='Accuracy'>"
      ]
     },
     "execution_count": 49,
     "metadata": {},
     "output_type": "execute_result"
    },
    {
     "data": {
      "image/png": "[encoded data removed]",
      "text/plain": [
       "<Figure size 720x360 with 1 Axes>"
      ]
     },
     "metadata": {
      "needs_background": "light"
     },
     "output_type": "display_data"
    }
   ],
   "source": [
    "plt.figure(figsize=(10,5))\n",
    "sns.barplot(x= 'Algorithm', y='Accuracy',palette='coolwarm_r',data=performance_df)"
   ]
  },
  {
   "cell_type": "markdown",
   "id": "56294dfd",
   "metadata": {},
   "source": [
    "# Hyperparametric Tuning"
   ]
  },
  {
   "cell_type": "markdown",
   "id": "0133b435",
   "metadata": {},
   "source": [
    "### KNN"
   ]
  },
  {
   "cell_type": "code",
   "execution_count": 50,
   "id": "c004f5e1",
   "metadata": {},
   "outputs": [
    {
     "data": {
      "image/png": "[encoded data removed]",
      "text/plain": [
       "<Figure size 432x288 with 1 Axes>"
      ]
     },
     "metadata": {
      "needs_background": "light"
     },
     "output_type": "display_data"
    }
   ],
   "source": [
    "accuracy=[]\n",
    "for i in range (1,31):\n",
    "    knn=KNeighborsClassifier(n_neighbors=i)\n",
    "    knn.fit(xtrain,ytrain)\n",
    "    ypred=knn.predict(xtest)\n",
    "    ac=accuracy_score(ytest,ypred)\n",
    "    accuracy.append(ac)\n",
    "    \n",
    "plt.plot(range(1,31), accuracy)\n",
    "plt.title(\"Accuracy with respect to N neighbors\")\n",
    "plt.xlabel('Value of N')\n",
    "plt.ylabel('Accuracy')\n",
    "plt.grid(True)\n",
    "plt.show()"
   ]
  },
  {
   "cell_type": "code",
   "execution_count": 51,
   "id": "fd49972e",
   "metadata": {},
   "outputs": [
    {
     "name": "stdout",
     "output_type": "stream",
     "text": [
      "Accuracy: 0.9381044487427466\n",
      "Precision: 1.0\n"
     ]
    }
   ],
   "source": [
    "knn= KNeighborsClassifier(n_neighbors=1)\n",
    "knn.fit(xtrain,ytrain)\n",
    "ypred=knn.predict(xtest)\n",
    "print(f'Accuracy: {accuracy_score(ytest,ypred)}')\n",
    "print(f'Precision: {precision_score(ytest,ypred)}')"
   ]
  },
  {
   "cell_type": "code",
   "execution_count": 52,
   "id": "935c3f33",
   "metadata": {},
   "outputs": [
    {
     "name": "stdout",
     "output_type": "stream",
     "text": [
      "0.9442835181748901\n"
     ]
    }
   ],
   "source": [
    "#cross validation on knn for accuracy\n",
    "cvs=cross_val_score(knn,x,y,cv=5,scoring='accuracy')\n",
    "print(cvs.mean())"
   ]
  },
  {
   "cell_type": "code",
   "execution_count": 53,
   "id": "f43b6872",
   "metadata": {},
   "outputs": [
    {
     "name": "stdout",
     "output_type": "stream",
     "text": [
      "0.9973333333333333\n"
     ]
    }
   ],
   "source": [
    "#cross validation on knn for precision\n",
    "cvs=cross_val_score(knn,x,y,cv=5,scoring='precision')\n",
    "print(cvs.mean())"
   ]
  },
  {
   "cell_type": "markdown",
   "id": "83d05eb7",
   "metadata": {},
   "source": [
    "### SVM"
   ]
  },
  {
   "cell_type": "code",
   "execution_count": 54,
   "id": "5d31cd5f",
   "metadata": {},
   "outputs": [
    {
     "name": "stdout",
     "output_type": "stream",
     "text": [
      "Accuracy: 0.9806576402321083\n",
      "Precision: 0.9836065573770492\n"
     ]
    }
   ],
   "source": [
    "svm = SVC(kernel='linear', gamma=1.0)\n",
    "svm.fit(xtrain,ytrain)\n",
    "ypred=svm.predict(xtest)\n",
    "print(f'Accuracy: {accuracy_score(ytest,ypred)}')\n",
    "print(f'Precision: {precision_score(ytest,ypred)}')"
   ]
  },
  {
   "cell_type": "code",
   "execution_count": 55,
   "id": "6bf1c582",
   "metadata": {},
   "outputs": [
    {
     "name": "stdout",
     "output_type": "stream",
     "text": [
      "Accuracy: 0.9274661508704062\n",
      "Precision: 1.0\n"
     ]
    }
   ],
   "source": [
    "svm = SVC(kernel='poly', gamma=1.0)\n",
    "svm.fit(xtrain,ytrain)\n",
    "ypred=svm.predict(xtest)\n",
    "print(f'Accuracy: {accuracy_score(ytest,ypred)}')\n",
    "print(f'Precision: {precision_score(ytest,ypred)}')"
   ]
  },
  {
   "cell_type": "code",
   "execution_count": 56,
   "id": "b9c87f15",
   "metadata": {},
   "outputs": [
    {
     "name": "stdout",
     "output_type": "stream",
     "text": [
      "Accuracy: 0.9806576402321083\n",
      "Precision: 0.9836065573770492\n"
     ]
    }
   ],
   "source": [
    "svm = SVC(kernel='sigmoid', gamma=1.0)\n",
    "svm.fit(xtrain,ytrain)\n",
    "ypred=svm.predict(xtest)\n",
    "print(f'Accuracy: {accuracy_score(ytest,ypred)}')\n",
    "print(f'Precision: {precision_score(ytest,ypred)}')"
   ]
  },
  {
   "cell_type": "markdown",
   "id": "b39a2f08",
   "metadata": {},
   "source": [
    "### Logistic Regression"
   ]
  },
  {
   "cell_type": "code",
   "execution_count": 57,
   "id": "b237b332",
   "metadata": {},
   "outputs": [
    {
     "name": "stdout",
     "output_type": "stream",
     "text": [
      "Accuracy: 0.9613152804642167\n",
      "Precision: 0.9454545454545454\n"
     ]
    }
   ],
   "source": [
    "logreg = LogisticRegression(solver='liblinear', penalty='l1')\n",
    "logreg.fit(xtrain,ytrain)\n",
    "ypred=logreg.predict(xtest)\n",
    "print(f'Accuracy: {accuracy_score(ytest,ypred)}')\n",
    "print(f'Precision: {precision_score(ytest,ypred)}')"
   ]
  },
  {
   "cell_type": "code",
   "execution_count": 58,
   "id": "60247476",
   "metadata": {},
   "outputs": [
    {
     "name": "stdout",
     "output_type": "stream",
     "text": [
      "0.9603391747384663\n"
     ]
    }
   ],
   "source": [
    "#cross validation on logreg for accuracy\n",
    "cvs=cross_val_score(logreg,x,y,cv=5,scoring='accuracy')\n",
    "print(cvs.mean())"
   ]
  },
  {
   "cell_type": "code",
   "execution_count": 59,
   "id": "e1ce6dce",
   "metadata": {},
   "outputs": [
    {
     "name": "stdout",
     "output_type": "stream",
     "text": [
      "0.9379741686884543\n"
     ]
    }
   ],
   "source": [
    "#cross validation on logreg for precision\n",
    "cvs=cross_val_score(logreg,x,y,cv=5,scoring='precision')\n",
    "print(cvs.mean())"
   ]
  },
  {
   "cell_type": "markdown",
   "id": "2425b4ed",
   "metadata": {},
   "source": [
    "### Decision Tree"
   ]
  },
  {
   "cell_type": "code",
   "execution_count": 60,
   "id": "e2ba31b7",
   "metadata": {},
   "outputs": [
    {
     "name": "stdout",
     "output_type": "stream",
     "text": [
      "1 -: 0.8955512572533849\n",
      "2 -: 0.9245647969052224\n",
      "3 -: 0.9342359767891683\n",
      "4 -: 0.9381044487427466\n",
      "5 -: 0.9458413926499033\n",
      "6 -: 0.9410058027079303\n",
      "7 -: 0.9429400386847195\n",
      "8 -: 0.9516441005802708\n",
      "9 -: 0.9497098646034816\n",
      "10 -: 0.9516441005802708\n",
      "11 -: 0.9526112185686654\n",
      "12 -: 0.9555125725338491\n",
      "13 -: 0.9555125725338491\n",
      "14 -: 0.9574468085106383\n",
      "15 -: 0.9584139264990329\n",
      "16 -: 0.9564796905222437\n",
      "17 -: 0.9574468085106383\n",
      "18 -: 0.9584139264990329\n",
      "19 -: 0.9574468085106383\n",
      "20 -: 0.9584139264990329\n",
      "21 -: 0.9574468085106383\n",
      "22 -: 0.9564796905222437\n",
      "23 -: 0.9555125725338491\n",
      "24 -: 0.9535783365570599\n",
      "25 -: 0.9545454545454546\n",
      "26 -: 0.9526112185686654\n",
      "27 -: 0.9564796905222437\n",
      "28 -: 0.9574468085106383\n",
      "29 -: 0.9564796905222437\n",
      "30 -: 0.9535783365570599\n",
      "31 -: 0.9574468085106383\n",
      "32 -: 0.9564796905222437\n",
      "33 -: 0.960348162475822\n",
      "34 -: 0.9535783365570599\n",
      "35 -: 0.9564796905222437\n",
      "36 -: 0.9545454545454546\n",
      "37 -: 0.9526112185686654\n",
      "38 -: 0.9526112185686654\n",
      "39 -: 0.9584139264990329\n",
      "40 -: 0.9564796905222437\n",
      "41 -: 0.9545454545454546\n",
      "42 -: 0.9564796905222437\n",
      "43 -: 0.9564796905222437\n",
      "44 -: 0.9506769825918762\n",
      "45 -: 0.9564796905222437\n",
      "46 -: 0.9593810444874274\n",
      "47 -: 0.9574468085106383\n",
      "48 -: 0.9555125725338491\n",
      "49 -: 0.9593810444874274\n"
     ]
    }
   ],
   "source": [
    "for i in range(1,50):\n",
    "    dt1 = DecisionTreeClassifier(max_depth=i)\n",
    "    dt1.fit(xtrain, ytrain)\n",
    "    ypred = dt1.predict(xtest)\n",
    "    print(f'{i} -: {accuracy_score(ytest, ypred)}') "
   ]
  },
  {
   "cell_type": "code",
   "execution_count": 61,
   "id": "807f86a0",
   "metadata": {},
   "outputs": [
    {
     "name": "stdout",
     "output_type": "stream",
     "text": [
      "Accuracy: 0.9506769825918762\n",
      "Precision: 0.8320610687022901\n"
     ]
    }
   ],
   "source": [
    "#max_depth\n",
    "dt2 = DecisionTreeClassifier(max_depth=97)\n",
    "dt2.fit(xtrain,ytrain)\n",
    "ypred=dt2.predict(xtest)\n",
    "print(f'Accuracy: {accuracy_score(ytest,ypred)}')\n",
    "print(f'Precision: {precision_score(ytest,ypred)}')"
   ]
  },
  {
   "cell_type": "code",
   "execution_count": 62,
   "id": "00df2dfd",
   "metadata": {},
   "outputs": [
    {
     "name": "stdout",
     "output_type": "stream",
     "text": [
      "1 -: 0.9497098646034816\n",
      "6 -: 0.9564796905222437\n",
      "11 -: 0.9439071566731141\n",
      "16 -: 0.9448742746615088\n",
      "21 -: 0.9400386847195358\n",
      "26 -: 0.9361702127659575\n",
      "31 -: 0.9352030947775629\n",
      "36 -: 0.9342359767891683\n",
      "41 -: 0.9323017408123792\n",
      "46 -: 0.9323017408123792\n"
     ]
    }
   ],
   "source": [
    "for i in range(1,50,5):\n",
    "    dt3 = DecisionTreeClassifier(min_samples_leaf=i)\n",
    "    dt3.fit(xtrain, ytrain)\n",
    "    ypred = dt3.predict(xtest)\n",
    "    print(f'{i} -: {accuracy_score(ytest, ypred)}')   "
   ]
  },
  {
   "cell_type": "code",
   "execution_count": 63,
   "id": "ee99574f",
   "metadata": {},
   "outputs": [
    {
     "name": "stdout",
     "output_type": "stream",
     "text": [
      "Accuracy: 0.9555125725338491\n",
      "Precision: 0.8382352941176471\n"
     ]
    }
   ],
   "source": [
    "#min_sample_leaf\n",
    "dt4 = DecisionTreeClassifier(min_samples_leaf=1)\n",
    "dt4.fit(xtrain,ytrain)\n",
    "ypred=dt4.predict(xtest)\n",
    "print(f'Accuracy: {accuracy_score(ytest,ypred)}')\n",
    "print(f'Precision: {precision_score(ytest,ypred)}')"
   ]
  },
  {
   "cell_type": "code",
   "execution_count": 64,
   "id": "c777f5ca",
   "metadata": {},
   "outputs": [
    {
     "name": "stdout",
     "output_type": "stream",
     "text": [
      "Accuracy: 0.9555125725338491\n",
      "Precision: 0.8432835820895522\n"
     ]
    }
   ],
   "source": [
    "#gini\n",
    "dt5 = DecisionTreeClassifier(criterion='gini', max_depth=97)\n",
    "dt5.fit(xtrain,ytrain)\n",
    "ypred=dt5.predict(xtest)\n",
    "print(f'Accuracy: {accuracy_score(ytest,ypred)}')\n",
    "print(f'Precision: {precision_score(ytest,ypred)}')"
   ]
  },
  {
   "cell_type": "code",
   "execution_count": 65,
   "id": "ac45edcf",
   "metadata": {},
   "outputs": [
    {
     "name": "stdout",
     "output_type": "stream",
     "text": [
      "Accuracy: 0.9535783365570599\n",
      "Precision: 0.8629032258064516\n"
     ]
    }
   ],
   "source": [
    "#entropy\n",
    "dt6 = DecisionTreeClassifier(criterion='entropy', max_depth=97)\n",
    "dt6.fit(xtrain,ytrain)\n",
    "ypred=dt6.predict(xtest)\n",
    "print(f'Accuracy: {accuracy_score(ytest,ypred)}')\n",
    "print(f'Precision: {precision_score(ytest,ypred)}')"
   ]
  },
  {
   "cell_type": "code",
   "execution_count": 66,
   "id": "d999a43f",
   "metadata": {},
   "outputs": [
    {
     "name": "stdout",
     "output_type": "stream",
     "text": [
      "0.9620809233402177\n"
     ]
    }
   ],
   "source": [
    "#cross validation for DT accuracy\n",
    "cvs=cross_val_score(dt6,x,y,cv=5,scoring='accuracy') #entropy\n",
    "print(cvs.mean())"
   ]
  },
  {
   "cell_type": "code",
   "execution_count": 67,
   "id": "7667bc25",
   "metadata": {},
   "outputs": [
    {
     "name": "stdout",
     "output_type": "stream",
     "text": [
      "0.8708489880890165\n"
     ]
    }
   ],
   "source": [
    "#cross validation for DT precision\n",
    "cvs=cross_val_score(dt6,x,y,cv=5,scoring='precision') #entropy\n",
    "print(cvs.mean())"
   ]
  },
  {
   "cell_type": "code",
   "execution_count": 68,
   "id": "e739c939",
   "metadata": {},
   "outputs": [],
   "source": [
    "knn = KNeighborsClassifier(n_neighbors=1)\n",
    "logreg = LogisticRegression(solver='liblinear', penalty='l1')\n",
    "svm = SVC(kernel='sigmoid', gamma=1.0)\n",
    "dtc = DecisionTreeClassifier(criterion='entropy', max_depth=97)\n",
    "mnb = MultinomialNB()\n",
    "rfc = RandomForestClassifier(n_estimators=50, random_state=2)\n",
    "abc = AdaBoostClassifier(n_estimators=50, random_state=2)\n",
    "bc = BaggingClassifier(n_estimators=50, random_state=2)\n",
    "gbdt = GradientBoostingClassifier(n_estimators=50,random_state=2)\n",
    "xgb = XGBClassifier(n_estimators=50,random_state=2)"
   ]
  },
  {
   "cell_type": "code",
   "execution_count": 69,
   "id": "2328f474",
   "metadata": {},
   "outputs": [
    {
     "name": "stdout",
     "output_type": "stream",
     "text": [
      "KNN     -:\n",
      "Accuracy: 0.9381044487427466\n",
      "Precision: 1.0\n",
      "Confusion Matrix:\n",
      " [[896   0]\n",
      " [ 64  74]]\n",
      "Classification Report:\n",
      "               precision    recall  f1-score   support\n",
      "\n",
      "           0       0.93      1.00      0.97       896\n",
      "           1       1.00      0.54      0.70       138\n",
      "\n",
      "    accuracy                           0.94      1034\n",
      "   macro avg       0.97      0.77      0.83      1034\n",
      "weighted avg       0.94      0.94      0.93      1034\n",
      "\n",
      "\n",
      "Logreg  -:\n",
      "Accuracy: 0.9613152804642167\n",
      "Precision: 0.9454545454545454\n",
      "Confusion Matrix:\n",
      " [[890   6]\n",
      " [ 34 104]]\n",
      "Classification Report:\n",
      "               precision    recall  f1-score   support\n",
      "\n",
      "           0       0.96      0.99      0.98       896\n",
      "           1       0.95      0.75      0.84       138\n",
      "\n",
      "    accuracy                           0.96      1034\n",
      "   macro avg       0.95      0.87      0.91      1034\n",
      "weighted avg       0.96      0.96      0.96      1034\n",
      "\n",
      "\n",
      "SVM     -:\n",
      "Accuracy: 0.9806576402321083\n",
      "Precision: 0.9836065573770492\n",
      "Confusion Matrix:\n",
      " [[894   2]\n",
      " [ 18 120]]\n",
      "Classification Report:\n",
      "               precision    recall  f1-score   support\n",
      "\n",
      "           0       0.98      1.00      0.99       896\n",
      "           1       0.98      0.87      0.92       138\n",
      "\n",
      "    accuracy                           0.98      1034\n",
      "   macro avg       0.98      0.93      0.96      1034\n",
      "weighted avg       0.98      0.98      0.98      1034\n",
      "\n",
      "\n",
      "DT      -:\n",
      "Accuracy: 0.9535783365570599\n",
      "Precision: 0.8571428571428571\n",
      "Confusion Matrix:\n",
      " [[878  18]\n",
      " [ 30 108]]\n",
      "Classification Report:\n",
      "               precision    recall  f1-score   support\n",
      "\n",
      "           0       0.97      0.98      0.97       896\n",
      "           1       0.86      0.78      0.82       138\n",
      "\n",
      "    accuracy                           0.95      1034\n",
      "   macro avg       0.91      0.88      0.90      1034\n",
      "weighted avg       0.95      0.95      0.95      1034\n",
      "\n",
      "\n",
      "RF    -:\n",
      "Accuracy: 0.9777562862669246\n",
      "Precision: 0.9914529914529915\n",
      "Confusion Matrix:\n",
      " [[895   1]\n",
      " [ 22 116]]\n",
      "Classification Report:\n",
      "               precision    recall  f1-score   support\n",
      "\n",
      "           0       0.98      1.00      0.99       896\n",
      "           1       0.99      0.84      0.91       138\n",
      "\n",
      "    accuracy                           0.98      1034\n",
      "   macro avg       0.98      0.92      0.95      1034\n",
      "weighted avg       0.98      0.98      0.98      1034\n",
      "\n",
      "\n",
      "GBN     -:\n",
      "Accuracy: 0.8965183752417795\n",
      "Precision: 0.5741626794258373\n",
      "Confusion Matrix:\n",
      " [[807  89]\n",
      " [ 18 120]]\n",
      "Classification Report:\n",
      "               precision    recall  f1-score   support\n",
      "\n",
      "           0       0.98      0.90      0.94       896\n",
      "           1       0.57      0.87      0.69       138\n",
      "\n",
      "    accuracy                           0.90      1034\n",
      "   macro avg       0.78      0.89      0.81      1034\n",
      "weighted avg       0.92      0.90      0.90      1034\n",
      "\n",
      "\n",
      "MNB    -:\n",
      "Accuracy: 0.9729206963249516\n",
      "Precision: 1.0\n",
      "Confusion Matrix:\n",
      " [[896   0]\n",
      " [ 28 110]]\n",
      "Classification Report:\n",
      "               precision    recall  f1-score   support\n",
      "\n",
      "           0       0.97      1.00      0.98       896\n",
      "           1       1.00      0.80      0.89       138\n",
      "\n",
      "    accuracy                           0.97      1034\n",
      "   macro avg       0.98      0.90      0.94      1034\n",
      "weighted avg       0.97      0.97      0.97      1034\n",
      "\n",
      "\n",
      "BNB     -:\n",
      "Accuracy: 0.9854932301740812\n",
      "Precision: 0.9767441860465116\n",
      "Confusion Matrix:\n",
      " [[893   3]\n",
      " [ 12 126]]\n",
      "Classification Report:\n",
      "               precision    recall  f1-score   support\n",
      "\n",
      "           0       0.99      1.00      0.99       896\n",
      "           1       0.98      0.91      0.94       138\n",
      "\n",
      "    accuracy                           0.99      1034\n",
      "   macro avg       0.98      0.95      0.97      1034\n",
      "weighted avg       0.99      0.99      0.99      1034\n",
      "\n",
      "\n",
      "ADA     -:\n",
      "Accuracy: 0.9738878143133463\n",
      "Precision: 0.944\n",
      "Confusion Matrix:\n",
      " [[889   7]\n",
      " [ 20 118]]\n",
      "Classification Report:\n",
      "               precision    recall  f1-score   support\n",
      "\n",
      "           0       0.98      0.99      0.99       896\n",
      "           1       0.94      0.86      0.90       138\n",
      "\n",
      "    accuracy                           0.97      1034\n",
      "   macro avg       0.96      0.92      0.94      1034\n",
      "weighted avg       0.97      0.97      0.97      1034\n",
      "\n",
      "\n",
      "BC     -:\n",
      "Accuracy: 0.9613152804642167\n",
      "Precision: 0.8951612903225806\n",
      "Confusion Matrix:\n",
      " [[883  13]\n",
      " [ 27 111]]\n",
      "Classification Report:\n",
      "               precision    recall  f1-score   support\n",
      "\n",
      "           0       0.97      0.99      0.98       896\n",
      "           1       0.90      0.80      0.85       138\n",
      "\n",
      "    accuracy                           0.96      1034\n",
      "   macro avg       0.93      0.89      0.91      1034\n",
      "weighted avg       0.96      0.96      0.96      1034\n",
      "\n",
      "\n",
      "GBC     -:\n",
      "Accuracy: 0.9535783365570599\n",
      "Precision: 0.9411764705882353\n",
      "Confusion Matrix:\n",
      " [[890   6]\n",
      " [ 42  96]]\n",
      "Classification Report:\n",
      "               precision    recall  f1-score   support\n",
      "\n",
      "           0       0.95      0.99      0.97       896\n",
      "           1       0.94      0.70      0.80       138\n",
      "\n",
      "    accuracy                           0.95      1034\n",
      "   macro avg       0.95      0.84      0.89      1034\n",
      "weighted avg       0.95      0.95      0.95      1034\n",
      "\n",
      "\n",
      "[12:13:31] WARNING: C:/Users/Administrator/workspace/xgboost-win64_release_1.4.0/src/learner.cc:1095: Starting in XGBoost 1.3.0, the default evaluation metric used with the objective 'binary:logistic' was changed from 'error' to 'logloss'. Explicitly set eval_metric if you'd like to restore the old behavior.\n",
      "XGB     -:\n",
      "Accuracy: 0.9806576402321083\n",
      "Precision: 0.9836065573770492\n",
      "Confusion Matrix:\n",
      " [[894   2]\n",
      " [ 18 120]]\n",
      "Classification Report:\n",
      "               precision    recall  f1-score   support\n",
      "\n",
      "           0       0.98      1.00      0.99       896\n",
      "           1       0.98      0.87      0.92       138\n",
      "\n",
      "    accuracy                           0.98      1034\n",
      "   macro avg       0.98      0.93      0.96      1034\n",
      "weighted avg       0.98      0.98      0.98      1034\n",
      "\n",
      "\n",
      "Avg. Ensemble Acurracy-: 96.08333333333333 %\n"
     ]
    }
   ],
   "source": [
    "models = []\n",
    "models.append((\"KNN     -:\", KNeighborsClassifier(n_neighbors=1)))\n",
    "models.append((\"Logreg  -:\", LogisticRegression(solver='liblinear', penalty='l1')))\n",
    "models.append((\"SVM     -:\", SVC(kernel='sigmoid', gamma=1.0)))\n",
    "models.append((\"DT      -:\", DecisionTreeClassifier(criterion='entropy', max_depth=97)))\n",
    "models.append((\"RF    -:\", RandomForestClassifier()))\n",
    "models.append((\"GBN     -:\", GaussianNB()))\n",
    "models.append((\"MNB    -:\", MultinomialNB()))\n",
    "models.append((\"BNB     -:\", BernoulliNB()))\n",
    "models.append((\"ADA     -:\", AdaBoostClassifier(n_estimators=50, random_state=2)))\n",
    "models.append((\"BC     -:\",BaggingClassifier(n_estimators=50, random_state=2)))\n",
    "models.append((\"GBC     -:\", GradientBoostingClassifier(n_estimators=50,random_state=2)))\n",
    "models.append((\"XGB     -:\", XGBClassifier(n_estimators=50,random_state=2)))\n",
    "\n",
    "accuracy=[]\n",
    "precision=[]\n",
    "for name, model in models:\n",
    "    model.fit(xtrain, ytrain)\n",
    "    ypred = model.predict(xtest)\n",
    "    ac = accuracy_score(ytest, ypred)\n",
    "    accuracy.append(round(ac*100))\n",
    "    pc=precision_score(ytest,ypred)\n",
    "    precision.append(round(pc*100))\n",
    "    \n",
    "    print(name)\n",
    "    print(f'Accuracy: {accuracy_score(ytest,ypred)}')\n",
    "    print(f'Precision: {precision_score(ytest,ypred)}')\n",
    "    print(f'Confusion Matrix:\\n {confusion_matrix(ytest,ypred)}')\n",
    "    print(f'Classification Report:\\n {classification_report(ytest, ypred)}')\n",
    "    print()\n",
    "    \n",
    "print(f\"Avg. Ensemble Acurracy-: {np.array(accuracy).mean()} %\")"
   ]
  },
  {
   "cell_type": "code",
   "execution_count": 70,
   "id": "b21c526f",
   "metadata": {},
   "outputs": [],
   "source": [
    "performance = pd.DataFrame({'Algorithm':clfs.keys(),'Accuracy':accuracy,'Precision':precision})"
   ]
  },
  {
   "cell_type": "code",
   "execution_count": 71,
   "id": "7215cf5f",
   "metadata": {},
   "outputs": [
    {
     "data": {
      "text/html": [
       "<div>\n",
       "<style scoped>\n",
       "    .dataframe tbody tr th:only-of-type {\n",
       "        vertical-align: middle;\n",
       "    }\n",
       "\n",
       "    .dataframe tbody tr th {\n",
       "        vertical-align: top;\n",
       "    }\n",
       "\n",
       "    .dataframe thead th {\n",
       "        text-align: right;\n",
       "    }\n",
       "</style>\n",
       "<table border=\"1\" class=\"dataframe\">\n",
       "  <thead>\n",
       "    <tr style=\"text-align: right;\">\n",
       "      <th></th>\n",
       "      <th>Algorithm</th>\n",
       "      <th>Accuracy</th>\n",
       "      <th>Precision</th>\n",
       "    </tr>\n",
       "  </thead>\n",
       "  <tbody>\n",
       "    <tr>\n",
       "      <th>0</th>\n",
       "      <td>KNN</td>\n",
       "      <td>94</td>\n",
       "      <td>100</td>\n",
       "    </tr>\n",
       "    <tr>\n",
       "      <th>1</th>\n",
       "      <td>LOGREG</td>\n",
       "      <td>96</td>\n",
       "      <td>95</td>\n",
       "    </tr>\n",
       "    <tr>\n",
       "      <th>2</th>\n",
       "      <td>SVC</td>\n",
       "      <td>98</td>\n",
       "      <td>98</td>\n",
       "    </tr>\n",
       "    <tr>\n",
       "      <th>3</th>\n",
       "      <td>DT</td>\n",
       "      <td>95</td>\n",
       "      <td>86</td>\n",
       "    </tr>\n",
       "    <tr>\n",
       "      <th>4</th>\n",
       "      <td>GNB</td>\n",
       "      <td>98</td>\n",
       "      <td>99</td>\n",
       "    </tr>\n",
       "    <tr>\n",
       "      <th>5</th>\n",
       "      <td>MNB</td>\n",
       "      <td>90</td>\n",
       "      <td>57</td>\n",
       "    </tr>\n",
       "    <tr>\n",
       "      <th>6</th>\n",
       "      <td>BNB</td>\n",
       "      <td>97</td>\n",
       "      <td>100</td>\n",
       "    </tr>\n",
       "    <tr>\n",
       "      <th>7</th>\n",
       "      <td>RF</td>\n",
       "      <td>99</td>\n",
       "      <td>98</td>\n",
       "    </tr>\n",
       "    <tr>\n",
       "      <th>8</th>\n",
       "      <td>AdaBoost</td>\n",
       "      <td>97</td>\n",
       "      <td>94</td>\n",
       "    </tr>\n",
       "    <tr>\n",
       "      <th>9</th>\n",
       "      <td>BgC</td>\n",
       "      <td>96</td>\n",
       "      <td>90</td>\n",
       "    </tr>\n",
       "    <tr>\n",
       "      <th>10</th>\n",
       "      <td>GBC</td>\n",
       "      <td>95</td>\n",
       "      <td>94</td>\n",
       "    </tr>\n",
       "    <tr>\n",
       "      <th>11</th>\n",
       "      <td>XGB</td>\n",
       "      <td>98</td>\n",
       "      <td>98</td>\n",
       "    </tr>\n",
       "  </tbody>\n",
       "</table>\n",
       "</div>"
      ],
      "text/plain": [
       "   Algorithm  Accuracy  Precision\n",
       "0        KNN        94        100\n",
       "1     LOGREG        96         95\n",
       "2        SVC        98         98\n",
       "3         DT        95         86\n",
       "4        GNB        98         99\n",
       "5        MNB        90         57\n",
       "6        BNB        97        100\n",
       "7         RF        99         98\n",
       "8   AdaBoost        97         94\n",
       "9        BgC        96         90\n",
       "10       GBC        95         94\n",
       "11       XGB        98         98"
      ]
     },
     "execution_count": 71,
     "metadata": {},
     "output_type": "execute_result"
    }
   ],
   "source": [
    "performance"
   ]
  },
  {
   "cell_type": "code",
   "execution_count": 72,
   "id": "f6e9282a",
   "metadata": {},
   "outputs": [
    {
     "data": {
      "text/plain": [
       "<AxesSubplot:xlabel='Algorithm', ylabel='Accuracy'>"
      ]
     },
     "execution_count": 72,
     "metadata": {},
     "output_type": "execute_result"
    },
    {
     "data": {
      "image/png": "[encoded data removed]",
      "text/plain": [
       "<Figure size 720x360 with 1 Axes>"
      ]
     },
     "metadata": {
      "needs_background": "light"
     },
     "output_type": "display_data"
    }
   ],
   "source": [
    "plt.figure(figsize=(10,5))\n",
    "sns.barplot(x= 'Algorithm', y='Accuracy',palette='coolwarm',data=performance_df)"
   ]
  },
  {
   "cell_type": "markdown",
   "id": "733f364a",
   "metadata": {},
   "source": [
    "### Voting Classifier"
   ]
  },
  {
   "cell_type": "code",
   "execution_count": 73,
   "id": "881934f3",
   "metadata": {},
   "outputs": [],
   "source": [
    "models=[('knn',KNeighborsClassifier(n_neighbors=1)),('mnb',MultinomialNB()),('rf',RandomForestClassifier())]"
   ]
  },
  {
   "cell_type": "code",
   "execution_count": 74,
   "id": "ef80e073",
   "metadata": {},
   "outputs": [
    {
     "name": "stdout",
     "output_type": "stream",
     "text": [
      "Accuracy 0.9729206963249516\n",
      "Precision 1.0\n"
     ]
    }
   ],
   "source": [
    "#Hard voting\n",
    "voting = VotingClassifier(estimators=models)\n",
    "voting.fit(xtrain,ytrain)\n",
    "ypred = voting.predict(xtest)\n",
    "print(\"Accuracy\",accuracy_score(ytest,ypred))\n",
    "print(\"Precision\",precision_score(ytest,ypred))"
   ]
  },
  {
   "cell_type": "code",
   "execution_count": 75,
   "id": "7bfd11ae",
   "metadata": {},
   "outputs": [
    {
     "name": "stdout",
     "output_type": "stream",
     "text": [
      "Accuracy 0.9574468085106383\n",
      "Precision 1.0\n"
     ]
    }
   ],
   "source": [
    "#Soft voting \n",
    "voting = VotingClassifier(estimators=models,voting='soft')\n",
    "voting.fit(xtrain,ytrain)\n",
    "ypred = voting.predict(xtest)\n",
    "print(\"Accuracy\",accuracy_score(ytest,ypred))\n",
    "print(\"Precision\",precision_score(ytest,ypred))"
   ]
  },
  {
   "cell_type": "markdown",
   "id": "3b88be69",
   "metadata": {},
   "source": [
    "### Stacking"
   ]
  },
  {
   "cell_type": "code",
   "execution_count": 76,
   "id": "fa7d6999",
   "metadata": {},
   "outputs": [],
   "source": [
    "estimators=[('KNN', knn), ('MNB', mnb), ('RF', rfc)]\n",
    "final_estimator=RandomForestClassifier()"
   ]
  },
  {
   "cell_type": "code",
   "execution_count": 77,
   "id": "4c54fe75",
   "metadata": {},
   "outputs": [
    {
     "name": "stdout",
     "output_type": "stream",
     "text": [
      "Accuracy 0.9806576402321083\n",
      "Precision 0.9154929577464789\n"
     ]
    }
   ],
   "source": [
    "clf = StackingClassifier(estimators=estimators, final_estimator=final_estimator)\n",
    "\n",
    "clf.fit(xtrain,ytrain)\n",
    "ypred = clf.predict(xtest)\n",
    "print(\"Accuracy\",accuracy_score(ytest,ypred))\n",
    "print(\"Precision\",precision_score(ytest,ypred))"
   ]
  },
  {
   "cell_type": "code",
   "execution_count": 78,
   "id": "7cd3ef80",
   "metadata": {},
   "outputs": [
    {
     "name": "stdout",
     "output_type": "stream",
     "text": [
      "0.9729206963249516\n",
      "1.0\n"
     ]
    }
   ],
   "source": [
    "#MNB\n",
    "mnb.fit(xtrain,ytrain)\n",
    "ypred1 = mnb.predict(xtest)\n",
    "print(accuracy_score(ytest,ypred1))\n",
    "print(precision_score(ytest,ypred1))"
   ]
  },
  {
   "cell_type": "markdown",
   "id": "6add207d",
   "metadata": {},
   "source": [
    "## Conclusion "
   ]
  },
  {
   "cell_type": "markdown",
   "id": "45ccbafb",
   "metadata": {},
   "source": [
    "1. From the EDA performed on the dataset it can be conclude that number of characters, words and sentences used in Ham messages are more as compared with spam messages.\n",
    "\n",
    "2. From the heat map performed to check the correlation, we see that our Target column has the higest correlation with the number of characters used in the text. \n",
    "\n",
    "3. After applying the set of algorithm along with the tuning of models, the best accuracy was found with Multinominal Naive Bayes. \n",
    "\n",
    "- Best Accuracy: 97.29\n",
    "- Best Precision: 1.0"
   ]
  },
  {
   "cell_type": "markdown",
   "id": "a4903fd6",
   "metadata": {},
   "source": [
    "## Saving model"
   ]
  },
  {
   "cell_type": "code",
   "execution_count": 80,
   "id": "b0c1226e",
   "metadata": {},
   "outputs": [],
   "source": [
    "import pickle\n",
    "pickle.dump(tfidf,open('vectorizer.pkl','wb'))\n",
    "pickle.dump(mnb,open('model.pkl','wb'))"
   ]
  },
  {
   "cell_type": "code",
   "execution_count": 81,
   "id": "45ba8e48",
   "metadata": {},
   "outputs": [
    {
     "name": "stdout",
     "output_type": "stream",
     "text": [
      "Accuracy of model(multinomial naive bayes) : 0.9729206963249516\n",
      "Precision of model(multinomial naive bayes) : 1.0\n"
     ]
    }
   ],
   "source": [
    "print('Accuracy of model(multinomial naive bayes) :' , accuracy_score(ytest , ypred1))\n",
    "print('Precision of model(multinomial naive bayes) :' , precision_score(ytest , ypred1))"
   ]
  }
 ],
 "metadata": {
  "kernelspec": {
   "display_name": "Python 3",
   "language": "python",
   "name": "python3"
  },
  "language_info": {
   "codemirror_mode": {
    "name": "ipython",
    "version": 3
   },
   "file_extension": ".py",
   "mimetype": "text/x-python",
   "name": "python",
   "nbconvert_exporter": "python",
   "pygments_lexer": "ipython3",
   "version": "3.8.8"
  }
 },
 "nbformat": 4,
 "nbformat_minor": 5
}
